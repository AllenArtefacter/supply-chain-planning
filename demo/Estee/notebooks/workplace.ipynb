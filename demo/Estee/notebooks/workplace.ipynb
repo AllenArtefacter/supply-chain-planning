{
 "cells": [
  {
   "cell_type": "code",
   "execution_count": 105,
   "metadata": {},
   "outputs": [],
   "source": [
    "import pandas as pd\n",
    "from scipy import stats\n",
    "import random\n",
    "from datetime import datetime as dt, timedelta\n",
    "import numpy as np\n",
    "\n",
    "import sys \n",
    "import os \n",
    "sys.path.insert(0, os.path.dirname(os.getcwd()))\n",
    "\n",
    "random.seed(42)"
   ]
  },
  {
   "cell_type": "code",
   "execution_count": 106,
   "metadata": {},
   "outputs": [],
   "source": [
    "df_history = pd.read_csv('../data/sales_history.csv')\n",
    "df_forecast = pd.read_csv('../data/sales_forecast.csv')\n",
    "df_hub_stock = pd.read_csv('../data/hub_stock.csv')\n"
   ]
  },
  {
   "cell_type": "code",
   "execution_count": null,
   "metadata": {},
   "outputs": [],
   "source": []
  },
  {
   "cell_type": "code",
   "execution_count": null,
   "metadata": {},
   "outputs": [],
   "source": []
  },
  {
   "cell_type": "code",
   "execution_count": null,
   "metadata": {},
   "outputs": [],
   "source": []
  },
  {
   "cell_type": "code",
   "execution_count": 141,
   "metadata": {},
   "outputs": [
    {
     "name": "stderr",
     "output_type": "stream",
     "text": [
      "/var/folders/nx/d8ckq9qd7l3dz5plmv5gdj_40000gn/T/ipykernel_14531/3199533630.py:59: DeprecationWarning:\n",
      "\n",
      "DataFrameGroupBy.apply operated on the grouping columns. This behavior is deprecated, and in a future version of pandas the grouping columns will be excluded from the operation. Either pass `include_groups=False` to exclude the groupings or explicitly select the grouping columns after groupby to silence this warning.\n",
      "\n",
      "/var/folders/nx/d8ckq9qd7l3dz5plmv5gdj_40000gn/T/ipykernel_14531/3199533630.py:60: DeprecationWarning:\n",
      "\n",
      "DataFrameGroupBy.apply operated on the grouping columns. This behavior is deprecated, and in a future version of pandas the grouping columns will be excluded from the operation. Either pass `include_groups=False` to exclude the groupings or explicitly select the grouping columns after groupby to silence this warning.\n",
      "\n"
     ]
    }
   ],
   "source": [
    "# parameters: \n",
    "config = {\n",
    "    \"lead_time_hud2channel\": 5,\n",
    "    \"lead_time_plant2hub\": 10,\n",
    "    \"safety_stock_factor\" : {\n",
    "        \"A\" : 10,\n",
    "        \"B\" : 10, \n",
    "        \"C\": 10\n",
    "    },\n",
    "    \"channel_plan\":{\n",
    "        \"channel 1\" :{\n",
    "            \"priority\" : 1,\n",
    "            \"service_level\" : 0.8\n",
    "        },        \n",
    "        \"channel 2\" :{\n",
    "            \"priority\" : 2,\n",
    "            \"service_level\" : 0.8\n",
    "        },\n",
    "        \"channel 3\" :{\n",
    "            \"priority\" : 3,\n",
    "            \"service_level\" : 0.8\n",
    "        },\n",
    "        \"channel 4\" :{\n",
    "            \"priority\" : 4,\n",
    "            \"service_level\" : 0.8\n",
    "            \n",
    "            \n",
    "        },\n",
    "    }\n",
    "}\n",
    "\n",
    "\n",
    "\n",
    "sku_ls = ['A', 'B', 'C']\n",
    "channel_ls = ['channel 1', 'channel 2', 'channel 3', 'channel 4']\n",
    "\n",
    "current_date = '2023-01-14'\n",
    "start_date = '2023-01-15'\n",
    "\n",
    "\n",
    "import simulation\n",
    "from importlib import reload \n",
    "reload(simulation)\n",
    "import xlwings as xw\n",
    "\n",
    "from simulation import generate_simulation,get_status,ttl_sales_through_rate,ttl_sales_shortage_rate\n",
    "\n",
    "df_allocation = generate_simulation(\n",
    "    config, \n",
    "    sku_ls,'2023-01-14', '2023-01-15', df_history, df_forecast, df_hub_stock, [1,2,3,4]\n",
    ")\n",
    "# df_allocation.to_excel('../data/allocation.xlsx', index= False)\n",
    "\n",
    "df_allocation['status'] = df_allocation.apply(get_status, axis = 1)\n",
    "df_allocation['date'] = pd.to_datetime(df_allocation['date'])\n",
    "\n",
    "\n",
    "df_status = pd.pivot_table(df_allocation, index=['sku_name', 'channel'],columns= 'date' ,values='status', aggfunc=lambda x: ', '.join(x))\n",
    "sales_through_breakdown = df_allocation.groupby(['sku_name','channel']).apply(lambda x: x.sales.sum()/(x['stock_in'].sum() + x[x['week']==0].stock) )\n",
    "stockout_breakdown = df_allocation.groupby(['sku_name','channel']).apply(lambda x: pd.Series(1 - x.sales.sum()/x.sales_potential_daily.sum(), index = ['stockout']))\n",
    "sales_through_breakdown.columns = ['sales_through']\n",
    "stockout_breakdown.columns = ['stockout']\n",
    "df_status = sales_through_breakdown.join(stockout_breakdown).join(df_status)\n",
    "\n",
    "# Connects to the active instance of Excel\n",
    "wb = xw.Book('../data/allocation.xlsx')  # Connects to the active instance of Excel\n",
    "sheet = wb.sheets['Sheet1']\n",
    "sheet.range(\"A:L\")[1:,:].clear_contents()\n",
    "sheet['A1'].options(index=False).value = df_allocation\n",
    "sheet = wb.sheets['Sheet2']\n",
    "sheet.range('A3').value = df_status\n",
    "\n",
    "\n",
    "sheet.range('A1').value = 'sale through rate:'\n",
    "sheet.range('C1').value = 'stockout rate:'\n",
    "sheet.range('A2').value = ttl_sales_through_rate(df_allocation)\n",
    "sheet.range('C2').value = ttl_sales_shortage_rate(df_allocation)\n"
   ]
  },
  {
   "cell_type": "code",
   "execution_count": 42,
   "metadata": {},
   "outputs": [],
   "source": [
    "# sales_demand * service_level     +    safety_stock \n",
    "\n",
    "# sales_demand * service_level     +    sales_demand/28 * factor\n",
    "\n",
    "# sales_demand * (service_level + factor/28)"
   ]
  },
  {
   "cell_type": "markdown",
   "metadata": {},
   "source": [
    "## Search"
   ]
  },
  {
   "cell_type": "code",
   "execution_count": 43,
   "metadata": {},
   "outputs": [],
   "source": [
    "from itertools import permutations,product\n",
    "from simulation import generate_simulation,get_status,ttl_sales_through_rate,ttl_sales_shortage_rate"
   ]
  },
  {
   "cell_type": "code",
   "execution_count": 285,
   "metadata": {},
   "outputs": [],
   "source": [
    "search_space = {\n",
    "    'lead_time_hud2channel' : [3,5],\n",
    "    'lead_time_plant2hub' : [10, 15],\n",
    "    'priority' : [1,2,3,4], \n",
    "    'service_level' : [0.6, 0.65, 0.7, 0.75, 0.8, 0.85, 0.9, 0.95]\n",
    "}\n",
    "\n",
    "\n",
    "priority_permu = list(permutations(search_space['priority'], 4))\n",
    "\n",
    "\n",
    "combinations = list(\n",
    "    product(   \n",
    "        search_space['lead_time_hud2channel'], \n",
    "        search_space['lead_time_plant2hub'], \n",
    "        search_space['service_level'], \n",
    "        priority_permu\n",
    "    )\n",
    ")\n",
    "\n",
    "sku_ls = ['A', 'B', 'C']\n",
    "\n",
    "config_spaces = [\n",
    "    {\n",
    "        \"trial\": i,\n",
    "        \"lead_time_hud2channel\": c[0],\n",
    "        \"lead_time_plant2hub\": c[1],\n",
    "        \"safety_stock_factor\" : {\n",
    "            \"A\" : 10,\n",
    "            \"B\" : 10, \n",
    "            \"C\": 15\n",
    "        },\n",
    "        \"channel_plan\":{\n",
    "            \"channel 1\" :{\n",
    "                \"priority\" : c[3][0],\n",
    "                \"service_level\" : c[2]\n",
    "            },        \n",
    "            \"channel 2\" :{\n",
    "                \"priority\" : c[3][1],\n",
    "                \"service_level\" : c[2]\n",
    "            },\n",
    "            \"channel 3\" :{\n",
    "                \"priority\" : c[3][2],\n",
    "                \"service_level\" : c[2]\n",
    "            },\n",
    "            \"channel 4\" :{\n",
    "                \"priority\" : c[3][3],\n",
    "                \"service_level\" : c[2]\n",
    "            },\n",
    "        }\n",
    "    }\n",
    "    for i,c in enumerate(combinations)\n",
    "]"
   ]
  },
  {
   "cell_type": "code",
   "execution_count": 294,
   "metadata": {},
   "outputs": [
    {
     "name": "stdout",
     "output_type": "stream",
     "text": [
      "8\n"
     ]
    }
   ],
   "source": [
    "from multiprocess import Pool\n",
    "import multiprocess as mp\n",
    "n_process = mp.cpu_count()\n",
    "print(n_process)\n"
   ]
  },
  {
   "cell_type": "code",
   "execution_count": null,
   "metadata": {},
   "outputs": [],
   "source": []
  },
  {
   "cell_type": "code",
   "execution_count": 292,
   "metadata": {},
   "outputs": [],
   "source": [
    "def simulate_one_trails(config_,df_history, df_forecast, df_hub_stock):\n",
    "    df_allocation_ = generate_simulation(\n",
    "        config_, \n",
    "        sku_ls,'2023-01-14', '2023-01-15', df_history, df_forecast, df_hub_stock, [1,2,3,4]\n",
    "    )\n",
    "    sales_though  = ttl_sales_through_rate(df_allocation_)\n",
    "    fill_rate =  1- ttl_sales_shortage_rate(df_allocation_)\n",
    "    \n",
    "    channel_plan = config_['channel_plan']\n",
    "    channel_order = sorted(channel_plan, key=lambda x: channel_plan[x]['priority'])\n",
    "\n",
    "    order = ''\n",
    "    for o in channel_order:\n",
    "        order += f\"{o}({int(config_['channel_plan'][o]['service_level'] * 100)}), \"\n",
    "\n",
    "    df_config_ = pd.DataFrame(\n",
    "        {\n",
    "            \"trial\": [config_['trial']],\n",
    "            \"sales through\": [sales_though],\n",
    "            \"fill rate\": [fill_rate],\n",
    "            \"transportation days (to hub)\" : [config_['lead_time_plant2hub']],\n",
    "            \"transportation days (to channel)\" : [config_['lead_time_hud2channel']],\n",
    "            \"safety_stock_factor\": [config_['safety_stock_factor']],\n",
    "            \"service level and order\": [order]\n",
    "        }\n",
    "    )\n",
    "    \n",
    "    return df_config_"
   ]
  },
  {
   "cell_type": "code",
   "execution_count": null,
   "metadata": {},
   "outputs": [],
   "source": []
  },
  {
   "cell_type": "code",
   "execution_count": 293,
   "metadata": {},
   "outputs": [
    {
     "data": {
      "text/html": [
       "<div>\n",
       "<style scoped>\n",
       "    .dataframe tbody tr th:only-of-type {\n",
       "        vertical-align: middle;\n",
       "    }\n",
       "\n",
       "    .dataframe tbody tr th {\n",
       "        vertical-align: top;\n",
       "    }\n",
       "\n",
       "    .dataframe thead th {\n",
       "        text-align: right;\n",
       "    }\n",
       "</style>\n",
       "<table border=\"1\" class=\"dataframe\">\n",
       "  <thead>\n",
       "    <tr style=\"text-align: right;\">\n",
       "      <th></th>\n",
       "      <th>trial</th>\n",
       "      <th>sales through</th>\n",
       "      <th>fill rate</th>\n",
       "      <th>transportation days (to hub)</th>\n",
       "      <th>transportation days (to channel)</th>\n",
       "      <th>safety_stock_factor</th>\n",
       "      <th>service level and order</th>\n",
       "    </tr>\n",
       "  </thead>\n",
       "  <tbody>\n",
       "    <tr>\n",
       "      <th>0</th>\n",
       "      <td>0</td>\n",
       "      <td>0.994721</td>\n",
       "      <td>0.959154</td>\n",
       "      <td>10</td>\n",
       "      <td>3</td>\n",
       "      <td>{'A': 10, 'B': 10, 'C': 15}</td>\n",
       "      <td>channel 1(60), channel 2(60), channel 3(60), c...</td>\n",
       "    </tr>\n",
       "  </tbody>\n",
       "</table>\n",
       "</div>"
      ],
      "text/plain": [
       "   trial  sales through  fill rate  transportation days (to hub)  \\\n",
       "0      0       0.994721   0.959154                            10   \n",
       "\n",
       "   transportation days (to channel)          safety_stock_factor  \\\n",
       "0                                 3  {'A': 10, 'B': 10, 'C': 15}   \n",
       "\n",
       "                             service level and order  \n",
       "0  channel 1(60), channel 2(60), channel 3(60), c...  "
      ]
     },
     "execution_count": 293,
     "metadata": {},
     "output_type": "execute_result"
    }
   ],
   "source": [
    "simulate_one_trails(config_spaces[0])"
   ]
  },
  {
   "cell_type": "code",
   "execution_count": null,
   "metadata": {},
   "outputs": [],
   "source": []
  },
  {
   "cell_type": "code",
   "execution_count": null,
   "metadata": {},
   "outputs": [],
   "source": []
  },
  {
   "cell_type": "code",
   "execution_count": null,
   "metadata": {},
   "outputs": [],
   "source": [
    "\n",
    "from tqdm import tqdm \n",
    "\n",
    "\n",
    "def search_multi_process(kwargls, func, n_process = None):\n",
    "    if not n_process:\n",
    "        n_process = mp.cpu_count()-1\n",
    "        \n",
    "    pool = Pool(n_process)\n",
    "    l = list()\n",
    "    for i in tqdm(pool.imap_unordered(func, kwargls), total = len(kwargls)):\n",
    "        l.append(i)\n",
    "    return l\n",
    "\n",
    "\n"
   ]
  },
  {
   "cell_type": "code",
   "execution_count": null,
   "metadata": {},
   "outputs": [],
   "source": []
  },
  {
   "cell_type": "code",
   "execution_count": null,
   "metadata": {},
   "outputs": [],
   "source": []
  },
  {
   "cell_type": "code",
   "execution_count": null,
   "metadata": {},
   "outputs": [],
   "source": []
  },
  {
   "cell_type": "code",
   "execution_count": null,
   "metadata": {},
   "outputs": [],
   "source": []
  },
  {
   "cell_type": "code",
   "execution_count": null,
   "metadata": {},
   "outputs": [],
   "source": []
  },
  {
   "cell_type": "code",
   "execution_count": null,
   "metadata": {},
   "outputs": [],
   "source": []
  },
  {
   "cell_type": "code",
   "execution_count": 284,
   "metadata": {},
   "outputs": [
    {
     "name": "stdout",
     "output_type": "stream",
     "text": [
      "8\n"
     ]
    },
    {
     "name": "stderr",
     "output_type": "stream",
     "text": [
      "768it [00:42, 18.20it/s]\n"
     ]
    }
   ],
   "source": [
    "from tqdm import tqdm \n",
    "n_process = mp.cpu_count()\n",
    "print(n_process)\n",
    "\n",
    "sales_through_ls = []\n",
    "fill_rate_ls = []\n",
    "\n",
    "df_result = pd.DataFrame()\n",
    "for i, config_ in tqdm(enumerate(config_spaces)):\n",
    "\n",
    "    df_allocation_ = generate_simulation(\n",
    "        config_, \n",
    "        sku_ls,'2023-01-14', '2023-01-15', df_history, df_forecast, df_hub_stock, [1,2,3,4]\n",
    "    )\n",
    "    sales_though  = ttl_sales_through_rate(df_allocation_)\n",
    "    fill_rate =  1- ttl_sales_shortage_rate(df_allocation_)\n",
    "    \n",
    "    channel_plan = config_['channel_plan']\n",
    "    channel_order = sorted(channel_plan, key=lambda x: channel_plan[x]['priority'])\n",
    "\n",
    "    order = ''\n",
    "    for o in channel_order:\n",
    "        order += f\"{o}({int(config_['channel_plan'][o]['service_level'] * 100)}), \"\n",
    "\n",
    "    df_config_ = pd.DataFrame(\n",
    "        {\n",
    "            \"trials\": [i],\n",
    "            \"sales through\": [sales_though],\n",
    "            \"fill rate\": [fill_rate],\n",
    "            \"transportation days (to hub)\" : [config_['lead_time_plant2hub']],\n",
    "            \"transportation days (to channel)\" : [config_['lead_time_hud2channel']],\n",
    "            \"safety_stock_factor\": [config_['safety_stock_factor']],\n",
    "            \"service level and order\": [order]\n",
    "        }\n",
    "    )\n",
    "    \n",
    "    \n",
    "    df_result = pd.concat([df_result, df_config_], axis = 0)\n"
   ]
  },
  {
   "cell_type": "code",
   "execution_count": null,
   "metadata": {},
   "outputs": [],
   "source": []
  },
  {
   "cell_type": "code",
   "execution_count": 282,
   "metadata": {},
   "outputs": [
    {
     "data": {
      "text/plain": [
       "['channel 1', 'channel 2', 'channel 3', 'channel 4']"
      ]
     },
     "execution_count": 282,
     "metadata": {},
     "output_type": "execute_result"
    }
   ],
   "source": [
    "channel_order"
   ]
  },
  {
   "cell_type": "code",
   "execution_count": null,
   "metadata": {},
   "outputs": [],
   "source": []
  },
  {
   "cell_type": "code",
   "execution_count": 283,
   "metadata": {},
   "outputs": [
    {
     "data": {
      "text/html": [
       "<div>\n",
       "<style scoped>\n",
       "    .dataframe tbody tr th:only-of-type {\n",
       "        vertical-align: middle;\n",
       "    }\n",
       "\n",
       "    .dataframe tbody tr th {\n",
       "        vertical-align: top;\n",
       "    }\n",
       "\n",
       "    .dataframe thead th {\n",
       "        text-align: right;\n",
       "    }\n",
       "</style>\n",
       "<table border=\"1\" class=\"dataframe\">\n",
       "  <thead>\n",
       "    <tr style=\"text-align: right;\">\n",
       "      <th></th>\n",
       "      <th>trials</th>\n",
       "      <th>sales through</th>\n",
       "      <th>fill rate</th>\n",
       "      <th>transportation days (to hub)</th>\n",
       "      <th>transportation days (to channel)</th>\n",
       "      <th>safety_stock_factor</th>\n",
       "      <th>service level and order</th>\n",
       "    </tr>\n",
       "  </thead>\n",
       "  <tbody>\n",
       "    <tr>\n",
       "      <th>0</th>\n",
       "      <td>0</td>\n",
       "      <td>0.994721</td>\n",
       "      <td>0.959154</td>\n",
       "      <td>10</td>\n",
       "      <td>3</td>\n",
       "      <td>{'A': 10, 'B': 10, 'C': 15}</td>\n",
       "      <td>channel 1(60), channel 2(60), channel 3(60), c...</td>\n",
       "    </tr>\n",
       "  </tbody>\n",
       "</table>\n",
       "</div>"
      ],
      "text/plain": [
       "   trials  sales through  fill rate  transportation days (to hub)  \\\n",
       "0       0       0.994721   0.959154                            10   \n",
       "\n",
       "   transportation days (to channel)          safety_stock_factor  \\\n",
       "0                                 3  {'A': 10, 'B': 10, 'C': 15}   \n",
       "\n",
       "                             service level and order  \n",
       "0  channel 1(60), channel 2(60), channel 3(60), c...  "
      ]
     },
     "execution_count": 283,
     "metadata": {},
     "output_type": "execute_result"
    }
   ],
   "source": []
  },
  {
   "cell_type": "code",
   "execution_count": null,
   "metadata": {},
   "outputs": [],
   "source": []
  },
  {
   "cell_type": "code",
   "execution_count": null,
   "metadata": {},
   "outputs": [],
   "source": []
  },
  {
   "cell_type": "code",
   "execution_count": null,
   "metadata": {},
   "outputs": [],
   "source": []
  },
  {
   "cell_type": "code",
   "execution_count": null,
   "metadata": {},
   "outputs": [],
   "source": []
  },
  {
   "cell_type": "code",
   "execution_count": null,
   "metadata": {},
   "outputs": [],
   "source": []
  },
  {
   "cell_type": "code",
   "execution_count": null,
   "metadata": {},
   "outputs": [],
   "source": []
  },
  {
   "cell_type": "code",
   "execution_count": null,
   "metadata": {},
   "outputs": [],
   "source": []
  },
  {
   "cell_type": "code",
   "execution_count": null,
   "metadata": {},
   "outputs": [],
   "source": []
  },
  {
   "cell_type": "code",
   "execution_count": null,
   "metadata": {},
   "outputs": [],
   "source": []
  },
  {
   "cell_type": "code",
   "execution_count": null,
   "metadata": {},
   "outputs": [],
   "source": []
  },
  {
   "cell_type": "code",
   "execution_count": null,
   "metadata": {},
   "outputs": [],
   "source": []
  },
  {
   "cell_type": "code",
   "execution_count": 104,
   "metadata": {},
   "outputs": [
    {
     "data": {
      "application/vnd.plotly.v1+json": {
       "config": {
        "plotlyServerURL": "https://plot.ly"
       },
       "data": [
        {
         "hovertemplate": "<b>%{hovertext}</b><br><br>x=%{x}<br>y=%{y}<extra></extra>",
         "hovertext": [
          0,
          1,
          2,
          3,
          4,
          5,
          6,
          7,
          8,
          9,
          10,
          11,
          12,
          13,
          14,
          15,
          16,
          17,
          18,
          19,
          20,
          21,
          22,
          23,
          24,
          25,
          26,
          27,
          28,
          29,
          30,
          31,
          32,
          33,
          34,
          35,
          36,
          37,
          38,
          39,
          40,
          41,
          42,
          43,
          44,
          45,
          46,
          47,
          48,
          49,
          50,
          51,
          52,
          53,
          54,
          55,
          56,
          57,
          58,
          59,
          60,
          61,
          62,
          63,
          64,
          65,
          66,
          67,
          68,
          69,
          70,
          71,
          72,
          73,
          74,
          75,
          76,
          77,
          78,
          79,
          80,
          81,
          82,
          83,
          84,
          85,
          86,
          87,
          88,
          89,
          90,
          91,
          92,
          93,
          94,
          95,
          96,
          97,
          98,
          99,
          100,
          101,
          102,
          103,
          104,
          105,
          106,
          107,
          108,
          109,
          110,
          111,
          112,
          113,
          114,
          115,
          116,
          117,
          118,
          119,
          120,
          121,
          122,
          123,
          124,
          125,
          126,
          127,
          128,
          129,
          130,
          131,
          132,
          133,
          134,
          135,
          136,
          137,
          138,
          139,
          140,
          141,
          142,
          143,
          144,
          145,
          146,
          147,
          148,
          149,
          150,
          151,
          152,
          153,
          154,
          155,
          156,
          157,
          158,
          159,
          160,
          161,
          162,
          163,
          164,
          165,
          166,
          167,
          168,
          169,
          170,
          171,
          172,
          173,
          174,
          175,
          176,
          177,
          178,
          179,
          180,
          181,
          182,
          183,
          184,
          185,
          186,
          187,
          188,
          189,
          190,
          191,
          192,
          193,
          194,
          195,
          196,
          197,
          198,
          199,
          200,
          201,
          202,
          203,
          204,
          205,
          206,
          207,
          208,
          209,
          210,
          211,
          212,
          213,
          214,
          215,
          216,
          217,
          218,
          219,
          220,
          221,
          222,
          223,
          224,
          225,
          226,
          227,
          228,
          229,
          230,
          231,
          232,
          233,
          234,
          235,
          236,
          237,
          238,
          239,
          240,
          241,
          242,
          243,
          244,
          245,
          246,
          247,
          248,
          249,
          250,
          251,
          252,
          253,
          254,
          255,
          256,
          257,
          258,
          259,
          260,
          261,
          262,
          263,
          264,
          265,
          266,
          267,
          268,
          269,
          270,
          271,
          272,
          273,
          274,
          275,
          276,
          277,
          278,
          279,
          280,
          281,
          282,
          283,
          284,
          285,
          286,
          287,
          288,
          289,
          290,
          291,
          292,
          293,
          294,
          295,
          296,
          297,
          298,
          299,
          300,
          301,
          302,
          303,
          304,
          305,
          306,
          307,
          308,
          309,
          310,
          311,
          312,
          313,
          314,
          315,
          316,
          317,
          318,
          319,
          320,
          321,
          322,
          323,
          324,
          325,
          326,
          327,
          328,
          329,
          330,
          331,
          332,
          333,
          334,
          335,
          336,
          337,
          338,
          339,
          340,
          341,
          342,
          343,
          344,
          345,
          346,
          347,
          348,
          349,
          350,
          351,
          352,
          353,
          354,
          355,
          356,
          357,
          358,
          359,
          360,
          361,
          362,
          363,
          364,
          365,
          366,
          367,
          368,
          369,
          370,
          371,
          372,
          373,
          374,
          375,
          376,
          377,
          378,
          379,
          380,
          381,
          382,
          383,
          384,
          385,
          386,
          387,
          388,
          389,
          390,
          391,
          392,
          393,
          394,
          395,
          396,
          397,
          398,
          399,
          400,
          401,
          402,
          403,
          404,
          405,
          406,
          407,
          408,
          409,
          410,
          411,
          412,
          413,
          414,
          415,
          416,
          417,
          418,
          419,
          420,
          421,
          422,
          423,
          424,
          425,
          426,
          427,
          428,
          429,
          430,
          431,
          432,
          433,
          434,
          435,
          436,
          437,
          438,
          439,
          440,
          441,
          442,
          443,
          444,
          445,
          446,
          447,
          448,
          449,
          450,
          451,
          452,
          453,
          454,
          455,
          456,
          457,
          458,
          459,
          460,
          461,
          462,
          463,
          464,
          465,
          466,
          467,
          468,
          469,
          470,
          471,
          472,
          473,
          474,
          475,
          476,
          477,
          478,
          479,
          480,
          481,
          482,
          483,
          484,
          485,
          486,
          487,
          488,
          489,
          490,
          491,
          492,
          493,
          494,
          495,
          496,
          497,
          498,
          499,
          500,
          501,
          502,
          503,
          504,
          505,
          506,
          507,
          508,
          509,
          510,
          511,
          512,
          513,
          514,
          515,
          516,
          517,
          518,
          519,
          520,
          521,
          522,
          523,
          524,
          525,
          526,
          527,
          528,
          529,
          530,
          531,
          532,
          533,
          534,
          535,
          536,
          537,
          538,
          539,
          540,
          541,
          542,
          543,
          544,
          545,
          546,
          547,
          548,
          549,
          550,
          551,
          552,
          553,
          554,
          555,
          556,
          557,
          558,
          559,
          560,
          561,
          562,
          563,
          564,
          565,
          566,
          567,
          568,
          569,
          570,
          571,
          572,
          573,
          574,
          575,
          576,
          577,
          578,
          579,
          580,
          581,
          582,
          583,
          584,
          585,
          586,
          587,
          588,
          589,
          590,
          591,
          592,
          593,
          594,
          595,
          596,
          597,
          598,
          599,
          600,
          601,
          602,
          603,
          604,
          605,
          606,
          607,
          608,
          609,
          610,
          611,
          612,
          613,
          614,
          615,
          616,
          617,
          618,
          619,
          620,
          621,
          622,
          623,
          624,
          625,
          626,
          627,
          628,
          629,
          630,
          631,
          632,
          633,
          634,
          635,
          636,
          637,
          638,
          639,
          640,
          641,
          642,
          643,
          644,
          645,
          646,
          647,
          648,
          649,
          650,
          651,
          652,
          653,
          654,
          655,
          656,
          657,
          658,
          659,
          660,
          661,
          662,
          663,
          664,
          665,
          666,
          667,
          668,
          669,
          670,
          671,
          672,
          673,
          674,
          675,
          676,
          677,
          678,
          679,
          680,
          681,
          682,
          683,
          684,
          685,
          686,
          687,
          688,
          689,
          690,
          691,
          692,
          693,
          694,
          695,
          696,
          697,
          698,
          699,
          700,
          701,
          702,
          703,
          704,
          705,
          706,
          707,
          708,
          709,
          710,
          711,
          712,
          713,
          714,
          715,
          716,
          717,
          718,
          719,
          720,
          721,
          722,
          723,
          724,
          725,
          726,
          727,
          728,
          729,
          730,
          731,
          732,
          733,
          734,
          735,
          736,
          737,
          738,
          739,
          740,
          741,
          742,
          743,
          744,
          745,
          746,
          747,
          748,
          749,
          750,
          751,
          752,
          753,
          754,
          755,
          756,
          757,
          758,
          759,
          760,
          761,
          762,
          763,
          764,
          765,
          766,
          767
         ],
         "legendgroup": "",
         "marker": {
          "color": "#636efa",
          "opacity": 0.8,
          "symbol": "circle"
         },
         "mode": "markers",
         "name": "",
         "orientation": "v",
         "showlegend": false,
         "type": "scatter",
         "x": [
          0.9947206335239771,
          0.994720633523977,
          0.9947206335239771,
          0.9947206335239771,
          0.9947206335239771,
          0.9947206335239771,
          0.9947206335239771,
          0.994720633523977,
          0.9947206335239771,
          0.9947206335239771,
          0.9947206335239771,
          0.9947206335239771,
          0.9947206335239771,
          0.9947206335239771,
          0.9947206335239771,
          0.9947206335239771,
          0.9947206335239771,
          0.9947206335239771,
          0.9947206335239771,
          0.9947206335239771,
          0.9947206335239771,
          0.9947206335239771,
          0.9947206335239771,
          0.9947206335239771,
          0.9837666217161976,
          0.9858406022224877,
          0.9837666217161976,
          0.9858406022224877,
          0.9858406022224877,
          0.9858406022224877,
          0.9837666217161977,
          0.9858406022224877,
          0.9837666217161977,
          0.9858406022224877,
          0.9858406022224877,
          0.9858406022224877,
          0.9837666217161976,
          0.9858406022224877,
          0.9837666217161976,
          0.9858406022224877,
          0.9858406022224879,
          0.9858406022224877,
          0.9858406022224877,
          0.9858406022224877,
          0.9858406022224877,
          0.9858406022224877,
          0.9858406022224879,
          0.9858406022224877,
          0.9325410382807034,
          0.9395854686254413,
          0.9325410382807036,
          0.9395854686254413,
          0.9395854686254413,
          0.9395854686254413,
          0.9325410382807037,
          0.9395854686254413,
          0.9325410382807036,
          0.9395854686254413,
          0.9395854686254413,
          0.9395854686254413,
          0.9325410382807034,
          0.9395854686254413,
          0.9325410382807034,
          0.9395854686254413,
          0.9395854686254415,
          0.9395854686254413,
          0.9395854686254413,
          0.9395854686254413,
          0.9395854686254413,
          0.9395854686254413,
          0.9395854686254415,
          0.9395854686254413,
          0.8906991741059288,
          0.8847555338010551,
          0.8906991741059289,
          0.8847555338010551,
          0.8974275303203351,
          0.8974275303203351,
          0.890699174105929,
          0.8847555338010551,
          0.8906991741059289,
          0.8847555338010551,
          0.8974275303203351,
          0.8974275303203351,
          0.8906991741059288,
          0.8847555338010551,
          0.8906991741059288,
          0.8847555338010551,
          0.8974275303203352,
          0.8974275303203351,
          0.8974275303203351,
          0.8974275303203351,
          0.8974275303203351,
          0.8974275303203351,
          0.8974275303203352,
          0.8974275303203351,
          0.8524952222313109,
          0.8468065170995783,
          0.852495222231311,
          0.8468065170995783,
          0.8589349851647493,
          0.8589349851647493,
          0.8524952222313111,
          0.8468065170995783,
          0.852495222231311,
          0.8468065170995783,
          0.8589349851647493,
          0.8589349851647493,
          0.8524952222313109,
          0.8468065170995783,
          0.8524952222313109,
          0.8468065170995783,
          0.8589349851647495,
          0.8589349851647493,
          0.842924812421455,
          0.842924812421455,
          0.842924812421455,
          0.842924812421455,
          0.8429248124214551,
          0.842924812421455,
          0.8173521841735646,
          0.8118979887208664,
          0.8173521841735647,
          0.8118979887208664,
          0.8144147612630919,
          0.8144147612630919,
          0.8173521841735648,
          0.8118979887208664,
          0.8173521841735647,
          0.8118979887208664,
          0.8144147612630919,
          0.8144147612630919,
          0.8173521841735646,
          0.8118979887208664,
          0.8173521841735646,
          0.8118979887208664,
          0.8144147612630919,
          0.8144147612630919,
          0.8081763024119665,
          0.8081763024119665,
          0.8081763024119665,
          0.8081763024119665,
          0.8081763024119666,
          0.8081763024119665,
          0.7850295136748976,
          0.7797910075735788,
          0.7850295136748977,
          0.7797910075735788,
          0.7758330251859157,
          0.7758330251859157,
          0.7850295136748978,
          0.7797910075735788,
          0.7850295136748977,
          0.7797910075735788,
          0.7758330251859157,
          0.7758330251859157,
          0.7850295136748976,
          0.7797910075735788,
          0.7850295136748976,
          0.7797910075735788,
          0.7758330251859157,
          0.7758330251859157,
          0.776216497527973,
          0.776216497527973,
          0.776216497527973,
          0.776216497527973,
          0.7762164975279731,
          0.776216497527973,
          0.7443536223101901,
          0.7443536223101901,
          0.7550963951443458,
          0.7500576329014708,
          0.7462505680957431,
          0.7462505680957431,
          0.7443536223101903,
          0.7443536223101901,
          0.7550963951443458,
          0.7500576329014708,
          0.7462505680957431,
          0.7462505680957431,
          0.7550963951443457,
          0.7500576329014708,
          0.7550963951443457,
          0.7500576329014708,
          0.7462505680957431,
          0.7462505680957431,
          0.7466194186651561,
          0.7466194186651561,
          0.7466194186651561,
          0.7466194186651561,
          0.7466194186651562,
          0.7466194186651561,
          0.9947206335239771,
          0.994720633523977,
          0.9947206335239771,
          0.9947206335239771,
          0.9947206335239771,
          0.9947206335239771,
          0.9947206335239771,
          0.994720633523977,
          0.9947206335239771,
          0.9947206335239771,
          0.9947206335239771,
          0.994720633523977,
          0.9947206335239771,
          0.9947206335239771,
          0.9947206335239771,
          0.9947206335239771,
          0.9947206335239771,
          0.9947206335239771,
          0.9947206335239771,
          0.9947206335239771,
          0.9947206335239771,
          0.9947206335239771,
          0.9947206335239771,
          0.9947206335239771,
          0.9632401891333663,
          0.9858406022224877,
          0.9632401891333664,
          0.9858406022224877,
          0.9858406022224877,
          0.9858406022224877,
          0.9632401891333666,
          0.9858406022224877,
          0.9632401891333664,
          0.9858406022224877,
          0.9858406022224877,
          0.9858406022224877,
          0.9632401891333664,
          0.9858406022224877,
          0.9632401891333663,
          0.9858406022224877,
          0.9858406022224879,
          0.9858406022224877,
          0.9858406022224877,
          0.9858406022224877,
          0.9858406022224877,
          0.9858406022224877,
          0.9858406022224879,
          0.9858406022224877,
          0.9129776953487236,
          0.9131322498251093,
          0.9129776953487238,
          0.9131322498251094,
          0.9395854686254413,
          0.9395854686254413,
          0.912977695348724,
          0.9131322498251094,
          0.9129776953487238,
          0.9131322498251094,
          0.9395854686254413,
          0.9395854686254413,
          0.9129776953487238,
          0.9131322498251094,
          0.9129776953487236,
          0.9131322498251093,
          0.9395854686254415,
          0.9395854686254413,
          0.9282623196186572,
          0.9282623196186572,
          0.9282623196186572,
          0.9282623196186572,
          0.9282623196186572,
          0.9282623196186572,
          0.8720136121017178,
          0.855845356579571,
          0.8720136121017179,
          0.8558453565795711,
          0.8949257627671725,
          0.8949257627671725,
          0.872013612101718,
          0.855845356579571,
          0.8720136121017179,
          0.8558453565795711,
          0.8949257627671725,
          0.8949257627671725,
          0.8720136121017179,
          0.8558453565795711,
          0.8720136121017178,
          0.855845356579571,
          0.8949257627671726,
          0.8949257627671725,
          0.8613772152685516,
          0.8613772152685515,
          0.8613772152685516,
          0.8613772152685516,
          0.8613772152685516,
          0.8613772152685516,
          0.8346111230916811,
          0.8191363578901968,
          0.8346111230916812,
          0.8191363578901969,
          0.8344177814793607,
          0.8344177814793607,
          0.8346111230916813,
          0.8191363578901968,
          0.8346111230916812,
          0.8191363578901969,
          0.8344177814793607,
          0.8344177814793607,
          0.8346111230916812,
          0.8191363578901969,
          0.8346111230916811,
          0.8191363578901968,
          0.8344177814793607,
          0.8344177814793607,
          0.8071491779263369,
          0.8071491779263369,
          0.8071491779263369,
          0.8071491779263369,
          0.8071491779263369,
          0.8071491779263369,
          0.7941379875801197,
          0.7853684968522519,
          0.8002053344170428,
          0.785368496852252,
          0.7788092029744972,
          0.7788092029744972,
          0.7941379875801197,
          0.7853684968522519,
          0.8002053344170428,
          0.785368496852252,
          0.7788092029744972,
          0.7788092029744972,
          0.8002053344170428,
          0.785368496852252,
          0.8002053344170427,
          0.7853684968522519,
          0.7788092029744974,
          0.7788092029744972,
          0.7738754732316644,
          0.7738754732316644,
          0.7738754732316644,
          0.7738754732316644,
          0.7738754732316644,
          0.7738754732316644,
          0.7437993891833409,
          0.7437993891833409,
          0.7685607461276142,
          0.7543106399879481,
          0.7416355095388746,
          0.7416355095388745,
          0.743799389183341,
          0.7437993891833409,
          0.7685607461276142,
          0.7543106399879481,
          0.7416355095388745,
          0.7416355095388745,
          0.7628155087171481,
          0.7543106399879481,
          0.7628155087171481,
          0.754310639987948,
          0.7416355095388747,
          0.7416355095388745,
          0.7432721147130121,
          0.7432721147130121,
          0.7432721147130121,
          0.7432721147130121,
          0.7432721147130121,
          0.7432721147130121,
          0.704004004663325,
          0.7040040046633249,
          0.7392555805115167,
          0.7255488298874347,
          0.7133570012448708,
          0.7133570012448707,
          0.7040040046633251,
          0.704004004663325,
          0.7392555805115167,
          0.7255488298874347,
          0.7133570012448707,
          0.7133570012448707,
          0.7169928140005137,
          0.7255488298874347,
          0.7169928140005137,
          0.7255488298874346,
          0.7133570012448709,
          0.7133570012448707,
          0.7149312027821872,
          0.7149312027821872,
          0.7149312027821872,
          0.7149312027821872,
          0.7149312027821872,
          0.7149312027821872,
          0.9947206335239771,
          0.9947206335239771,
          0.9947206335239771,
          0.9947206335239771,
          0.9947206335239771,
          0.9947206335239771,
          0.9947206335239771,
          0.994720633523977,
          0.9947206335239771,
          0.9947206335239772,
          0.9947206335239771,
          0.9947206335239771,
          0.9947206335239772,
          0.9947206335239771,
          0.9947206335239771,
          0.9947206335239771,
          0.9947206335239771,
          0.9947206335239771,
          0.9947206335239771,
          0.9947206335239771,
          0.9947206335239771,
          0.9947206335239771,
          0.9947206335239773,
          0.9947206335239771,
          0.9837666217161976,
          0.9858406022224877,
          0.9837666217161976,
          0.9858406022224877,
          0.9858406022224877,
          0.9858406022224877,
          0.9837666217161977,
          0.9858406022224877,
          0.9837666217161977,
          0.9858406022224877,
          0.9858406022224877,
          0.9858406022224877,
          0.9837666217161976,
          0.9858406022224877,
          0.9837666217161976,
          0.9858406022224877,
          0.9858406022224879,
          0.9858406022224877,
          0.9858406022224877,
          0.9858406022224877,
          0.9858406022224877,
          0.9858406022224877,
          0.9858406022224879,
          0.9858406022224877,
          0.9325410382807034,
          0.9395854686254413,
          0.9325410382807036,
          0.9395854686254413,
          0.9395854686254413,
          0.9395854686254413,
          0.9325410382807037,
          0.9395854686254413,
          0.9325410382807036,
          0.9395854686254413,
          0.9395854686254413,
          0.9395854686254413,
          0.9325410382807034,
          0.9395854686254413,
          0.9325410382807034,
          0.9395854686254413,
          0.9395854686254415,
          0.9395854686254413,
          0.9395854686254413,
          0.9395854686254413,
          0.9395854686254413,
          0.9395854686254413,
          0.9395854686254415,
          0.9395854686254413,
          0.8906991741059288,
          0.8847555338010551,
          0.8906991741059289,
          0.8847555338010551,
          0.8974275303203351,
          0.8974275303203351,
          0.890699174105929,
          0.8847555338010551,
          0.8906991741059289,
          0.8847555338010551,
          0.8974275303203351,
          0.8974275303203351,
          0.8906991741059288,
          0.8847555338010551,
          0.8906991741059288,
          0.8847555338010551,
          0.8974275303203352,
          0.8974275303203351,
          0.8974275303203351,
          0.8974275303203351,
          0.8974275303203351,
          0.8974275303203351,
          0.8974275303203352,
          0.8974275303203351,
          0.8524952222313109,
          0.8468065170995783,
          0.852495222231311,
          0.8468065170995783,
          0.8589349851647493,
          0.8589349851647493,
          0.8524952222313111,
          0.8468065170995783,
          0.852495222231311,
          0.8468065170995783,
          0.8589349851647493,
          0.8589349851647493,
          0.8524952222313109,
          0.8468065170995783,
          0.8524952222313109,
          0.8468065170995783,
          0.8589349851647495,
          0.8589349851647493,
          0.842924812421455,
          0.842924812421455,
          0.842924812421455,
          0.842924812421455,
          0.8429248124214551,
          0.842924812421455,
          0.8173521841735646,
          0.8118979887208664,
          0.8173521841735647,
          0.8118979887208664,
          0.8144147612630919,
          0.8144147612630919,
          0.8173521841735648,
          0.8118979887208664,
          0.8173521841735647,
          0.8118979887208664,
          0.8144147612630919,
          0.8144147612630919,
          0.8173521841735646,
          0.8118979887208664,
          0.8173521841735646,
          0.8118979887208664,
          0.8144147612630919,
          0.8144147612630919,
          0.8081763024119665,
          0.8081763024119665,
          0.8081763024119665,
          0.8081763024119665,
          0.8081763024119666,
          0.8081763024119665,
          0.7850295136748976,
          0.7797910075735788,
          0.7850295136748977,
          0.7797910075735788,
          0.7758330251859157,
          0.7758330251859157,
          0.7850295136748978,
          0.7797910075735788,
          0.7850295136748977,
          0.7797910075735788,
          0.7758330251859157,
          0.7758330251859157,
          0.7850295136748976,
          0.7797910075735788,
          0.7850295136748976,
          0.7797910075735788,
          0.7758330251859157,
          0.7758330251859157,
          0.776216497527973,
          0.776216497527973,
          0.776216497527973,
          0.776216497527973,
          0.7762164975279731,
          0.776216497527973,
          0.7443536223101901,
          0.7443536223101901,
          0.7550963951443458,
          0.7500576329014708,
          0.7462505680957431,
          0.7462505680957431,
          0.7443536223101903,
          0.7443536223101901,
          0.7550963951443458,
          0.7500576329014708,
          0.7462505680957431,
          0.7462505680957431,
          0.7550963951443457,
          0.7500576329014708,
          0.7550963951443457,
          0.7500576329014708,
          0.7462505680957431,
          0.7462505680957431,
          0.7466194186651561,
          0.7466194186651561,
          0.7466194186651561,
          0.7466194186651561,
          0.7466194186651562,
          0.7466194186651561,
          0.9947206335239771,
          0.9947206335239771,
          0.9947206335239771,
          0.9947206335239771,
          0.9947206335239771,
          0.9947206335239771,
          0.9947206335239771,
          0.994720633523977,
          0.9947206335239771,
          0.9947206335239772,
          0.9947206335239771,
          0.9947206335239771,
          0.9947206335239772,
          0.9947206335239771,
          0.9947206335239771,
          0.9947206335239771,
          0.9947206335239771,
          0.9947206335239771,
          0.9947206335239771,
          0.9947206335239771,
          0.9947206335239771,
          0.9947206335239771,
          0.9947206335239771,
          0.9947206335239771,
          0.9632401891333663,
          0.9858406022224877,
          0.9632401891333664,
          0.9858406022224877,
          0.9858406022224877,
          0.9858406022224877,
          0.9632401891333666,
          0.9858406022224877,
          0.9632401891333664,
          0.9858406022224877,
          0.9858406022224877,
          0.9858406022224877,
          0.9632401891333664,
          0.9858406022224877,
          0.9632401891333663,
          0.9858406022224877,
          0.9858406022224879,
          0.9858406022224877,
          0.9858406022224877,
          0.9858406022224877,
          0.9858406022224877,
          0.9858406022224877,
          0.9858406022224879,
          0.9858406022224877,
          0.9129776953487236,
          0.9131322498251093,
          0.9129776953487238,
          0.9131322498251094,
          0.9395854686254413,
          0.9395854686254413,
          0.912977695348724,
          0.9131322498251094,
          0.9129776953487238,
          0.9131322498251094,
          0.9395854686254413,
          0.9395854686254413,
          0.9129776953487238,
          0.9131322498251094,
          0.9129776953487236,
          0.9131322498251093,
          0.9395854686254415,
          0.9395854686254413,
          0.9282623196186572,
          0.9282623196186572,
          0.9282623196186572,
          0.9282623196186572,
          0.9282623196186572,
          0.9282623196186572,
          0.8720136121017178,
          0.855845356579571,
          0.8720136121017179,
          0.8558453565795711,
          0.8949257627671725,
          0.8949257627671725,
          0.872013612101718,
          0.855845356579571,
          0.8720136121017179,
          0.8558453565795711,
          0.8949257627671725,
          0.8949257627671725,
          0.8720136121017179,
          0.8558453565795711,
          0.8720136121017178,
          0.855845356579571,
          0.8949257627671726,
          0.8949257627671725,
          0.8613772152685516,
          0.8613772152685515,
          0.8613772152685516,
          0.8613772152685516,
          0.8613772152685516,
          0.8613772152685516,
          0.8346111230916811,
          0.8191363578901968,
          0.8346111230916812,
          0.8191363578901969,
          0.8344177814793607,
          0.8344177814793607,
          0.8346111230916813,
          0.8191363578901968,
          0.8346111230916812,
          0.8191363578901969,
          0.8344177814793607,
          0.8344177814793607,
          0.8346111230916812,
          0.8191363578901969,
          0.8346111230916811,
          0.8191363578901968,
          0.8344177814793607,
          0.8344177814793607,
          0.8071491779263369,
          0.8071491779263369,
          0.8071491779263369,
          0.8071491779263369,
          0.8071491779263369,
          0.8071491779263369,
          0.7941379875801197,
          0.7853684968522519,
          0.8002053344170428,
          0.785368496852252,
          0.7788092029744972,
          0.7788092029744972,
          0.7941379875801197,
          0.7853684968522519,
          0.8002053344170428,
          0.785368496852252,
          0.7788092029744972,
          0.7788092029744972,
          0.8002053344170428,
          0.785368496852252,
          0.8002053344170427,
          0.7853684968522519,
          0.7788092029744974,
          0.7788092029744972,
          0.7738754732316644,
          0.7738754732316644,
          0.7738754732316644,
          0.7738754732316644,
          0.7738754732316644,
          0.7738754732316644,
          0.7437993891833409,
          0.7437993891833409,
          0.7685607461276142,
          0.7543106399879481,
          0.7416355095388746,
          0.7416355095388745,
          0.743799389183341,
          0.7437993891833409,
          0.7685607461276142,
          0.7543106399879481,
          0.7416355095388745,
          0.7416355095388745,
          0.7628155087171481,
          0.7543106399879481,
          0.7628155087171481,
          0.754310639987948,
          0.7416355095388747,
          0.7416355095388745,
          0.7432721147130121,
          0.7432721147130121,
          0.7432721147130121,
          0.7432721147130121,
          0.7432721147130121,
          0.7432721147130121,
          0.704004004663325,
          0.7040040046633249,
          0.7392555805115167,
          0.7255488298874347,
          0.7133570012448708,
          0.7133570012448707,
          0.7040040046633251,
          0.704004004663325,
          0.7392555805115167,
          0.7255488298874347,
          0.7133570012448707,
          0.7133570012448707,
          0.7169928140005137,
          0.7255488298874347,
          0.7169928140005137,
          0.7255488298874346,
          0.7133570012448709,
          0.7133570012448707,
          0.7149312027821872,
          0.7149312027821872,
          0.7149312027821872,
          0.7149312027821872,
          0.7149312027821872,
          0.7149312027821872
         ],
         "xaxis": "x",
         "y": [
          0.9591539906672323,
          0.9591539906672322,
          0.9591539906672323,
          0.9591539906672323,
          0.9591539906672323,
          0.9591539906672323,
          0.9591539906672321,
          0.9591539906672322,
          0.9591539906672323,
          0.9591539906672323,
          0.9591539906672323,
          0.9591539906672323,
          0.9591539906672323,
          0.9591539906672323,
          0.9591539906672323,
          0.9591539906672323,
          0.9591539906672321,
          0.9591539906672323,
          0.9591539906672323,
          0.9591539906672323,
          0.9591539906672323,
          0.9591539906672323,
          0.9591539906672321,
          0.9591539906672323,
          0.9978962313972313,
          1,
          0.9978962313972313,
          1,
          1,
          1,
          0.9978962313972313,
          1,
          0.9978962313972315,
          1,
          1,
          1,
          0.9978962313972313,
          1,
          0.9978962313972313,
          1,
          1,
          1,
          1,
          1,
          1,
          1,
          1,
          1,
          0.9925026188888985,
          1,
          0.9925026188888986,
          1,
          1,
          1,
          0.9925026188888985,
          1,
          0.9925026188888986,
          1,
          1,
          1,
          0.9925026188888985,
          1,
          0.9925026188888985,
          1,
          1,
          1,
          1,
          1,
          1,
          1,
          1,
          1,
          0.9925026188888985,
          0.9858796436579601,
          0.9925026188888986,
          0.9858796436579601,
          1,
          1,
          0.9925026188888985,
          0.9858796436579601,
          0.9925026188888986,
          0.9858796436579601,
          1,
          1,
          0.9925026188888985,
          0.9858796436579601,
          0.9925026188888985,
          0.9858796436579601,
          1,
          1,
          1,
          1,
          1,
          1,
          1,
          1,
          0.9925026188888985,
          0.9858796436579601,
          0.9925026188888986,
          0.9858796436579601,
          1,
          1,
          0.9925026188888985,
          0.9858796436579601,
          0.9925026188888986,
          0.9858796436579601,
          1,
          1,
          0.9925026188888985,
          0.9858796436579601,
          0.9925026188888985,
          0.9858796436579601,
          1,
          1,
          0.9813604370297905,
          0.9813604370297905,
          0.9813604370297905,
          0.9813604370297905,
          0.9813604370297904,
          0.9813604370297905,
          0.9925026188888985,
          0.9858796436579601,
          0.9925026188888986,
          0.9858796436579601,
          0.98893573549655,
          0.98893573549655,
          0.9925026188888985,
          0.9858796436579601,
          0.9925026188888986,
          0.9858796436579601,
          0.98893573549655,
          0.98893573549655,
          0.9925026188888985,
          0.9858796436579601,
          0.9925026188888985,
          0.9858796436579601,
          0.9889357354965498,
          0.98893573549655,
          0.9813604370297905,
          0.9813604370297905,
          0.9813604370297905,
          0.9813604370297905,
          0.9813604370297904,
          0.9813604370297905,
          0.9925026188888985,
          0.9858796436579601,
          0.9925026188888986,
          0.9858796436579601,
          0.9808756179279179,
          0.9808756179279179,
          0.9925026188888985,
          0.9858796436579601,
          0.9925026188888986,
          0.9858796436579601,
          0.9808756179279179,
          0.9808756179279179,
          0.9925026188888985,
          0.9858796436579601,
          0.9925026188888985,
          0.9858796436579601,
          0.9808756179279177,
          0.9808756179279179,
          0.9813604370297905,
          0.9813604370297905,
          0.9813604370297905,
          0.9813604370297905,
          0.9813604370297904,
          0.9813604370297905,
          0.9783822625468586,
          0.9783822625468586,
          0.9925026188888986,
          0.9858796436579601,
          0.9808756179279179,
          0.9808756179279179,
          0.9783822625468586,
          0.9783822625468586,
          0.9925026188888986,
          0.9858796436579601,
          0.9808756179279179,
          0.9808756179279179,
          0.9925026188888985,
          0.9858796436579601,
          0.9925026188888985,
          0.9858796436579601,
          0.9808756179279177,
          0.9808756179279179,
          0.9813604370297905,
          0.9813604370297905,
          0.9813604370297905,
          0.9813604370297905,
          0.9813604370297904,
          0.9813604370297905,
          0.9591539906672323,
          0.9591539906672322,
          0.9591539906672323,
          0.9591539906672323,
          0.9591539906672323,
          0.9591539906672323,
          0.9591539906672321,
          0.9591539906672322,
          0.9591539906672323,
          0.9591539906672323,
          0.9591539906672323,
          0.9591539906672322,
          0.9591539906672323,
          0.9591539906672323,
          0.9591539906672323,
          0.9591539906672323,
          0.9591539906672321,
          0.9591539906672323,
          0.9591539906672323,
          0.9591539906672323,
          0.9591539906672323,
          0.9591539906672323,
          0.9591539906672321,
          0.9591539906672323,
          0.9770749824685949,
          1,
          0.977074982468595,
          1,
          1,
          1,
          0.977074982468595,
          1,
          0.977074982468595,
          1,
          1,
          1,
          0.977074982468595,
          1,
          0.9770749824685949,
          1,
          1,
          1,
          1,
          1,
          1,
          1,
          1,
          1,
          0.9716813699602621,
          0.9718458621555404,
          0.9716813699602622,
          0.9718458621555405,
          1,
          1,
          0.9716813699602622,
          0.9718458621555405,
          0.9716813699602622,
          0.9718458621555405,
          1,
          1,
          0.9716813699602622,
          0.9718458621555405,
          0.9716813699602621,
          0.9718458621555404,
          1,
          1,
          0.9879487823248808,
          0.9879487823248808,
          0.9879487823248808,
          0.9879487823248808,
          0.9879487823248806,
          0.9879487823248808,
          0.9716813699602621,
          0.9536651458353173,
          0.9716813699602622,
          0.9536651458353174,
          0.9972122901642325,
          0.9972122901642325,
          0.9716813699602622,
          0.9536651458353173,
          0.9716813699602622,
          0.9536651458353174,
          0.9972122901642325,
          0.9972122901642325,
          0.9716813699602622,
          0.9536651458353174,
          0.9716813699602621,
          0.9536651458353173,
          0.9972122901642325,
          0.9972122901642325,
          0.9598292744162692,
          0.9598292744162691,
          0.9598292744162692,
          0.9598292744162692,
          0.959829274416269,
          0.9598292744162692,
          0.9716813699602621,
          0.9536651458353173,
          0.9716813699602622,
          0.9536651458353174,
          0.9714562753772499,
          0.9714562753772499,
          0.9716813699602622,
          0.9536651458353173,
          0.9716813699602622,
          0.9536651458353174,
          0.9714562753772499,
          0.9714562753772499,
          0.9716813699602622,
          0.9536651458353174,
          0.9716813699602621,
          0.9536651458353173,
          0.9714562753772497,
          0.9714562753772499,
          0.9397092816885557,
          0.9397092816885557,
          0.9397092816885557,
          0.9397092816885557,
          0.9397092816885556,
          0.9397092816885557,
          0.9643138511085908,
          0.9536651458353173,
          0.9716813699602622,
          0.9536651458353174,
          0.9457002605902672,
          0.9457002605902672,
          0.9643138511085907,
          0.9536651458353173,
          0.9716813699602622,
          0.9536651458353174,
          0.9457002605902672,
          0.9457002605902672,
          0.9716813699602622,
          0.9536651458353174,
          0.9716813699602621,
          0.9536651458353173,
          0.9457002605902672,
          0.9457002605902672,
          0.9397092816885557,
          0.9397092816885557,
          0.9397092816885557,
          0.9397092816885557,
          0.9397092816885556,
          0.9397092816885557,
          0.9403759079536305,
          0.9403759079536305,
          0.9716813699602622,
          0.9536651458353174,
          0.9376401430216351,
          0.937640143021635,
          0.9403759079536304,
          0.9403759079536305,
          0.9716813699602622,
          0.9536651458353174,
          0.937640143021635,
          0.937640143021635,
          0.964417740916135,
          0.9536651458353174,
          0.964417740916135,
          0.9536651458353173,
          0.9376401430216351,
          0.937640143021635,
          0.9397092816885557,
          0.9397092816885557,
          0.9397092816885557,
          0.9397092816885557,
          0.9397092816885556,
          0.9397092816885557,
          0.9253465157955795,
          0.9253465157955794,
          0.9716813699602622,
          0.9536651458353174,
          0.9376401430216351,
          0.937640143021635,
          0.9253465157955794,
          0.9253465157955795,
          0.9716813699602622,
          0.9536651458353174,
          0.937640143021635,
          0.937640143021635,
          0.942419074168665,
          0.9536651458353174,
          0.942419074168665,
          0.9536651458353173,
          0.9376401430216351,
          0.937640143021635,
          0.9397092816885557,
          0.9397092816885557,
          0.9397092816885557,
          0.9397092816885557,
          0.9397092816885556,
          0.9397092816885557,
          0.9591539906672323,
          0.9591539906672323,
          0.9591539906672323,
          0.9591539906672323,
          0.9591539906672323,
          0.9591539906672323,
          0.9591539906672321,
          0.9591539906672322,
          0.9591539906672323,
          0.9591539906672324,
          0.9591539906672323,
          0.9591539906672323,
          0.9591539906672324,
          0.9591539906672323,
          0.9591539906672323,
          0.9591539906672323,
          0.9591539906672321,
          0.9591539906672323,
          0.9591539906672323,
          0.9591539906672323,
          0.9591539906672323,
          0.9591539906672323,
          0.9591539906672323,
          0.9591539906672323,
          0.9978962313972313,
          1,
          0.9978962313972313,
          1,
          1,
          1,
          0.9978962313972313,
          1,
          0.9978962313972315,
          1,
          1,
          1,
          0.9978962313972313,
          1,
          0.9978962313972313,
          1,
          1,
          1,
          1,
          1,
          1,
          1,
          1,
          1,
          0.9925026188888985,
          1,
          0.9925026188888986,
          1,
          1,
          1,
          0.9925026188888985,
          1,
          0.9925026188888986,
          1,
          1,
          1,
          0.9925026188888985,
          1,
          0.9925026188888985,
          1,
          1,
          1,
          1,
          1,
          1,
          1,
          1,
          1,
          0.9925026188888985,
          0.9858796436579601,
          0.9925026188888986,
          0.9858796436579601,
          1,
          1,
          0.9925026188888985,
          0.9858796436579601,
          0.9925026188888986,
          0.9858796436579601,
          1,
          1,
          0.9925026188888985,
          0.9858796436579601,
          0.9925026188888985,
          0.9858796436579601,
          1,
          1,
          1,
          1,
          1,
          1,
          1,
          1,
          0.9925026188888985,
          0.9858796436579601,
          0.9925026188888986,
          0.9858796436579601,
          1,
          1,
          0.9925026188888985,
          0.9858796436579601,
          0.9925026188888986,
          0.9858796436579601,
          1,
          1,
          0.9925026188888985,
          0.9858796436579601,
          0.9925026188888985,
          0.9858796436579601,
          1,
          1,
          0.9813604370297905,
          0.9813604370297905,
          0.9813604370297905,
          0.9813604370297905,
          0.9813604370297904,
          0.9813604370297905,
          0.9925026188888985,
          0.9858796436579601,
          0.9925026188888986,
          0.9858796436579601,
          0.98893573549655,
          0.98893573549655,
          0.9925026188888985,
          0.9858796436579601,
          0.9925026188888986,
          0.9858796436579601,
          0.98893573549655,
          0.98893573549655,
          0.9925026188888985,
          0.9858796436579601,
          0.9925026188888985,
          0.9858796436579601,
          0.9889357354965498,
          0.98893573549655,
          0.9813604370297905,
          0.9813604370297905,
          0.9813604370297905,
          0.9813604370297905,
          0.9813604370297904,
          0.9813604370297905,
          0.9925026188888985,
          0.9858796436579601,
          0.9925026188888986,
          0.9858796436579601,
          0.9808756179279179,
          0.9808756179279179,
          0.9925026188888985,
          0.9858796436579601,
          0.9925026188888986,
          0.9858796436579601,
          0.9808756179279179,
          0.9808756179279179,
          0.9925026188888985,
          0.9858796436579601,
          0.9925026188888985,
          0.9858796436579601,
          0.9808756179279177,
          0.9808756179279179,
          0.9813604370297905,
          0.9813604370297905,
          0.9813604370297905,
          0.9813604370297905,
          0.9813604370297904,
          0.9813604370297905,
          0.9783822625468586,
          0.9783822625468586,
          0.9925026188888986,
          0.9858796436579601,
          0.9808756179279179,
          0.9808756179279179,
          0.9783822625468586,
          0.9783822625468586,
          0.9925026188888986,
          0.9858796436579601,
          0.9808756179279179,
          0.9808756179279179,
          0.9925026188888985,
          0.9858796436579601,
          0.9925026188888985,
          0.9858796436579601,
          0.9808756179279177,
          0.9808756179279179,
          0.9813604370297905,
          0.9813604370297905,
          0.9813604370297905,
          0.9813604370297905,
          0.9813604370297904,
          0.9813604370297905,
          0.9591539906672323,
          0.9591539906672323,
          0.9591539906672323,
          0.9591539906672323,
          0.9591539906672323,
          0.9591539906672323,
          0.9591539906672321,
          0.9591539906672322,
          0.9591539906672323,
          0.9591539906672324,
          0.9591539906672323,
          0.9591539906672323,
          0.9591539906672324,
          0.9591539906672323,
          0.9591539906672323,
          0.9591539906672323,
          0.9591539906672321,
          0.9591539906672323,
          0.9591539906672323,
          0.9591539906672323,
          0.9591539906672323,
          0.9591539906672323,
          0.9591539906672321,
          0.9591539906672323,
          0.9770749824685949,
          1,
          0.977074982468595,
          1,
          1,
          1,
          0.977074982468595,
          1,
          0.977074982468595,
          1,
          1,
          1,
          0.977074982468595,
          1,
          0.9770749824685949,
          1,
          1,
          1,
          1,
          1,
          1,
          1,
          1,
          1,
          0.9716813699602621,
          0.9718458621555404,
          0.9716813699602622,
          0.9718458621555405,
          1,
          1,
          0.9716813699602622,
          0.9718458621555405,
          0.9716813699602622,
          0.9718458621555405,
          1,
          1,
          0.9716813699602622,
          0.9718458621555405,
          0.9716813699602621,
          0.9718458621555404,
          1,
          1,
          0.9879487823248808,
          0.9879487823248808,
          0.9879487823248808,
          0.9879487823248808,
          0.9879487823248806,
          0.9879487823248808,
          0.9716813699602621,
          0.9536651458353173,
          0.9716813699602622,
          0.9536651458353174,
          0.9972122901642325,
          0.9972122901642325,
          0.9716813699602622,
          0.9536651458353173,
          0.9716813699602622,
          0.9536651458353174,
          0.9972122901642325,
          0.9972122901642325,
          0.9716813699602622,
          0.9536651458353174,
          0.9716813699602621,
          0.9536651458353173,
          0.9972122901642325,
          0.9972122901642325,
          0.9598292744162692,
          0.9598292744162691,
          0.9598292744162692,
          0.9598292744162692,
          0.959829274416269,
          0.9598292744162692,
          0.9716813699602621,
          0.9536651458353173,
          0.9716813699602622,
          0.9536651458353174,
          0.9714562753772499,
          0.9714562753772499,
          0.9716813699602622,
          0.9536651458353173,
          0.9716813699602622,
          0.9536651458353174,
          0.9714562753772499,
          0.9714562753772499,
          0.9716813699602622,
          0.9536651458353174,
          0.9716813699602621,
          0.9536651458353173,
          0.9714562753772497,
          0.9714562753772499,
          0.9397092816885557,
          0.9397092816885557,
          0.9397092816885557,
          0.9397092816885557,
          0.9397092816885556,
          0.9397092816885557,
          0.9643138511085908,
          0.9536651458353173,
          0.9716813699602622,
          0.9536651458353174,
          0.9457002605902672,
          0.9457002605902672,
          0.9643138511085907,
          0.9536651458353173,
          0.9716813699602622,
          0.9536651458353174,
          0.9457002605902672,
          0.9457002605902672,
          0.9716813699602622,
          0.9536651458353174,
          0.9716813699602621,
          0.9536651458353173,
          0.9457002605902672,
          0.9457002605902672,
          0.9397092816885557,
          0.9397092816885557,
          0.9397092816885557,
          0.9397092816885557,
          0.9397092816885556,
          0.9397092816885557,
          0.9403759079536305,
          0.9403759079536305,
          0.9716813699602622,
          0.9536651458353174,
          0.9376401430216351,
          0.937640143021635,
          0.9403759079536304,
          0.9403759079536305,
          0.9716813699602622,
          0.9536651458353174,
          0.937640143021635,
          0.937640143021635,
          0.964417740916135,
          0.9536651458353174,
          0.964417740916135,
          0.9536651458353173,
          0.9376401430216351,
          0.937640143021635,
          0.9397092816885557,
          0.9397092816885557,
          0.9397092816885557,
          0.9397092816885557,
          0.9397092816885556,
          0.9397092816885557,
          0.9253465157955795,
          0.9253465157955794,
          0.9716813699602622,
          0.9536651458353174,
          0.9376401430216351,
          0.937640143021635,
          0.9253465157955794,
          0.9253465157955795,
          0.9716813699602622,
          0.9536651458353174,
          0.937640143021635,
          0.937640143021635,
          0.942419074168665,
          0.9536651458353174,
          0.942419074168665,
          0.9536651458353173,
          0.9376401430216351,
          0.937640143021635,
          0.9397092816885557,
          0.9397092816885557,
          0.9397092816885557,
          0.9397092816885557,
          0.9397092816885556,
          0.9397092816885557
         ],
         "yaxis": "y"
        }
       ],
       "layout": {
        "height": 600,
        "legend": {
         "tracegroupgap": 0
        },
        "margin": {
         "t": 60
        },
        "template": {
         "data": {
          "bar": [
           {
            "error_x": {
             "color": "rgb(36,36,36)"
            },
            "error_y": {
             "color": "rgb(36,36,36)"
            },
            "marker": {
             "line": {
              "color": "white",
              "width": 0.5
             },
             "pattern": {
              "fillmode": "overlay",
              "size": 10,
              "solidity": 0.2
             }
            },
            "type": "bar"
           }
          ],
          "barpolar": [
           {
            "marker": {
             "line": {
              "color": "white",
              "width": 0.5
             },
             "pattern": {
              "fillmode": "overlay",
              "size": 10,
              "solidity": 0.2
             }
            },
            "type": "barpolar"
           }
          ],
          "carpet": [
           {
            "aaxis": {
             "endlinecolor": "rgb(36,36,36)",
             "gridcolor": "white",
             "linecolor": "white",
             "minorgridcolor": "white",
             "startlinecolor": "rgb(36,36,36)"
            },
            "baxis": {
             "endlinecolor": "rgb(36,36,36)",
             "gridcolor": "white",
             "linecolor": "white",
             "minorgridcolor": "white",
             "startlinecolor": "rgb(36,36,36)"
            },
            "type": "carpet"
           }
          ],
          "choropleth": [
           {
            "colorbar": {
             "outlinewidth": 1,
             "tickcolor": "rgb(36,36,36)",
             "ticks": "outside"
            },
            "type": "choropleth"
           }
          ],
          "contour": [
           {
            "colorbar": {
             "outlinewidth": 1,
             "tickcolor": "rgb(36,36,36)",
             "ticks": "outside"
            },
            "colorscale": [
             [
              0,
              "#440154"
             ],
             [
              0.1111111111111111,
              "#482878"
             ],
             [
              0.2222222222222222,
              "#3e4989"
             ],
             [
              0.3333333333333333,
              "#31688e"
             ],
             [
              0.4444444444444444,
              "#26828e"
             ],
             [
              0.5555555555555556,
              "#1f9e89"
             ],
             [
              0.6666666666666666,
              "#35b779"
             ],
             [
              0.7777777777777778,
              "#6ece58"
             ],
             [
              0.8888888888888888,
              "#b5de2b"
             ],
             [
              1,
              "#fde725"
             ]
            ],
            "type": "contour"
           }
          ],
          "contourcarpet": [
           {
            "colorbar": {
             "outlinewidth": 1,
             "tickcolor": "rgb(36,36,36)",
             "ticks": "outside"
            },
            "type": "contourcarpet"
           }
          ],
          "heatmap": [
           {
            "colorbar": {
             "outlinewidth": 1,
             "tickcolor": "rgb(36,36,36)",
             "ticks": "outside"
            },
            "colorscale": [
             [
              0,
              "#440154"
             ],
             [
              0.1111111111111111,
              "#482878"
             ],
             [
              0.2222222222222222,
              "#3e4989"
             ],
             [
              0.3333333333333333,
              "#31688e"
             ],
             [
              0.4444444444444444,
              "#26828e"
             ],
             [
              0.5555555555555556,
              "#1f9e89"
             ],
             [
              0.6666666666666666,
              "#35b779"
             ],
             [
              0.7777777777777778,
              "#6ece58"
             ],
             [
              0.8888888888888888,
              "#b5de2b"
             ],
             [
              1,
              "#fde725"
             ]
            ],
            "type": "heatmap"
           }
          ],
          "heatmapgl": [
           {
            "colorbar": {
             "outlinewidth": 1,
             "tickcolor": "rgb(36,36,36)",
             "ticks": "outside"
            },
            "colorscale": [
             [
              0,
              "#440154"
             ],
             [
              0.1111111111111111,
              "#482878"
             ],
             [
              0.2222222222222222,
              "#3e4989"
             ],
             [
              0.3333333333333333,
              "#31688e"
             ],
             [
              0.4444444444444444,
              "#26828e"
             ],
             [
              0.5555555555555556,
              "#1f9e89"
             ],
             [
              0.6666666666666666,
              "#35b779"
             ],
             [
              0.7777777777777778,
              "#6ece58"
             ],
             [
              0.8888888888888888,
              "#b5de2b"
             ],
             [
              1,
              "#fde725"
             ]
            ],
            "type": "heatmapgl"
           }
          ],
          "histogram": [
           {
            "marker": {
             "line": {
              "color": "white",
              "width": 0.6
             }
            },
            "type": "histogram"
           }
          ],
          "histogram2d": [
           {
            "colorbar": {
             "outlinewidth": 1,
             "tickcolor": "rgb(36,36,36)",
             "ticks": "outside"
            },
            "colorscale": [
             [
              0,
              "#440154"
             ],
             [
              0.1111111111111111,
              "#482878"
             ],
             [
              0.2222222222222222,
              "#3e4989"
             ],
             [
              0.3333333333333333,
              "#31688e"
             ],
             [
              0.4444444444444444,
              "#26828e"
             ],
             [
              0.5555555555555556,
              "#1f9e89"
             ],
             [
              0.6666666666666666,
              "#35b779"
             ],
             [
              0.7777777777777778,
              "#6ece58"
             ],
             [
              0.8888888888888888,
              "#b5de2b"
             ],
             [
              1,
              "#fde725"
             ]
            ],
            "type": "histogram2d"
           }
          ],
          "histogram2dcontour": [
           {
            "colorbar": {
             "outlinewidth": 1,
             "tickcolor": "rgb(36,36,36)",
             "ticks": "outside"
            },
            "colorscale": [
             [
              0,
              "#440154"
             ],
             [
              0.1111111111111111,
              "#482878"
             ],
             [
              0.2222222222222222,
              "#3e4989"
             ],
             [
              0.3333333333333333,
              "#31688e"
             ],
             [
              0.4444444444444444,
              "#26828e"
             ],
             [
              0.5555555555555556,
              "#1f9e89"
             ],
             [
              0.6666666666666666,
              "#35b779"
             ],
             [
              0.7777777777777778,
              "#6ece58"
             ],
             [
              0.8888888888888888,
              "#b5de2b"
             ],
             [
              1,
              "#fde725"
             ]
            ],
            "type": "histogram2dcontour"
           }
          ],
          "mesh3d": [
           {
            "colorbar": {
             "outlinewidth": 1,
             "tickcolor": "rgb(36,36,36)",
             "ticks": "outside"
            },
            "type": "mesh3d"
           }
          ],
          "parcoords": [
           {
            "line": {
             "colorbar": {
              "outlinewidth": 1,
              "tickcolor": "rgb(36,36,36)",
              "ticks": "outside"
             }
            },
            "type": "parcoords"
           }
          ],
          "pie": [
           {
            "automargin": true,
            "type": "pie"
           }
          ],
          "scatter": [
           {
            "fillpattern": {
             "fillmode": "overlay",
             "size": 10,
             "solidity": 0.2
            },
            "type": "scatter"
           }
          ],
          "scatter3d": [
           {
            "line": {
             "colorbar": {
              "outlinewidth": 1,
              "tickcolor": "rgb(36,36,36)",
              "ticks": "outside"
             }
            },
            "marker": {
             "colorbar": {
              "outlinewidth": 1,
              "tickcolor": "rgb(36,36,36)",
              "ticks": "outside"
             }
            },
            "type": "scatter3d"
           }
          ],
          "scattercarpet": [
           {
            "marker": {
             "colorbar": {
              "outlinewidth": 1,
              "tickcolor": "rgb(36,36,36)",
              "ticks": "outside"
             }
            },
            "type": "scattercarpet"
           }
          ],
          "scattergeo": [
           {
            "marker": {
             "colorbar": {
              "outlinewidth": 1,
              "tickcolor": "rgb(36,36,36)",
              "ticks": "outside"
             }
            },
            "type": "scattergeo"
           }
          ],
          "scattergl": [
           {
            "marker": {
             "colorbar": {
              "outlinewidth": 1,
              "tickcolor": "rgb(36,36,36)",
              "ticks": "outside"
             }
            },
            "type": "scattergl"
           }
          ],
          "scattermapbox": [
           {
            "marker": {
             "colorbar": {
              "outlinewidth": 1,
              "tickcolor": "rgb(36,36,36)",
              "ticks": "outside"
             }
            },
            "type": "scattermapbox"
           }
          ],
          "scatterpolar": [
           {
            "marker": {
             "colorbar": {
              "outlinewidth": 1,
              "tickcolor": "rgb(36,36,36)",
              "ticks": "outside"
             }
            },
            "type": "scatterpolar"
           }
          ],
          "scatterpolargl": [
           {
            "marker": {
             "colorbar": {
              "outlinewidth": 1,
              "tickcolor": "rgb(36,36,36)",
              "ticks": "outside"
             }
            },
            "type": "scatterpolargl"
           }
          ],
          "scatterternary": [
           {
            "marker": {
             "colorbar": {
              "outlinewidth": 1,
              "tickcolor": "rgb(36,36,36)",
              "ticks": "outside"
             }
            },
            "type": "scatterternary"
           }
          ],
          "surface": [
           {
            "colorbar": {
             "outlinewidth": 1,
             "tickcolor": "rgb(36,36,36)",
             "ticks": "outside"
            },
            "colorscale": [
             [
              0,
              "#440154"
             ],
             [
              0.1111111111111111,
              "#482878"
             ],
             [
              0.2222222222222222,
              "#3e4989"
             ],
             [
              0.3333333333333333,
              "#31688e"
             ],
             [
              0.4444444444444444,
              "#26828e"
             ],
             [
              0.5555555555555556,
              "#1f9e89"
             ],
             [
              0.6666666666666666,
              "#35b779"
             ],
             [
              0.7777777777777778,
              "#6ece58"
             ],
             [
              0.8888888888888888,
              "#b5de2b"
             ],
             [
              1,
              "#fde725"
             ]
            ],
            "type": "surface"
           }
          ],
          "table": [
           {
            "cells": {
             "fill": {
              "color": "rgb(237,237,237)"
             },
             "line": {
              "color": "white"
             }
            },
            "header": {
             "fill": {
              "color": "rgb(217,217,217)"
             },
             "line": {
              "color": "white"
             }
            },
            "type": "table"
           }
          ]
         },
         "layout": {
          "annotationdefaults": {
           "arrowhead": 0,
           "arrowwidth": 1
          },
          "autotypenumbers": "strict",
          "coloraxis": {
           "colorbar": {
            "outlinewidth": 1,
            "tickcolor": "rgb(36,36,36)",
            "ticks": "outside"
           }
          },
          "colorscale": {
           "diverging": [
            [
             0,
             "rgb(103,0,31)"
            ],
            [
             0.1,
             "rgb(178,24,43)"
            ],
            [
             0.2,
             "rgb(214,96,77)"
            ],
            [
             0.3,
             "rgb(244,165,130)"
            ],
            [
             0.4,
             "rgb(253,219,199)"
            ],
            [
             0.5,
             "rgb(247,247,247)"
            ],
            [
             0.6,
             "rgb(209,229,240)"
            ],
            [
             0.7,
             "rgb(146,197,222)"
            ],
            [
             0.8,
             "rgb(67,147,195)"
            ],
            [
             0.9,
             "rgb(33,102,172)"
            ],
            [
             1,
             "rgb(5,48,97)"
            ]
           ],
           "sequential": [
            [
             0,
             "#440154"
            ],
            [
             0.1111111111111111,
             "#482878"
            ],
            [
             0.2222222222222222,
             "#3e4989"
            ],
            [
             0.3333333333333333,
             "#31688e"
            ],
            [
             0.4444444444444444,
             "#26828e"
            ],
            [
             0.5555555555555556,
             "#1f9e89"
            ],
            [
             0.6666666666666666,
             "#35b779"
            ],
            [
             0.7777777777777778,
             "#6ece58"
            ],
            [
             0.8888888888888888,
             "#b5de2b"
            ],
            [
             1,
             "#fde725"
            ]
           ],
           "sequentialminus": [
            [
             0,
             "#440154"
            ],
            [
             0.1111111111111111,
             "#482878"
            ],
            [
             0.2222222222222222,
             "#3e4989"
            ],
            [
             0.3333333333333333,
             "#31688e"
            ],
            [
             0.4444444444444444,
             "#26828e"
            ],
            [
             0.5555555555555556,
             "#1f9e89"
            ],
            [
             0.6666666666666666,
             "#35b779"
            ],
            [
             0.7777777777777778,
             "#6ece58"
            ],
            [
             0.8888888888888888,
             "#b5de2b"
            ],
            [
             1,
             "#fde725"
            ]
           ]
          },
          "colorway": [
           "#1F77B4",
           "#FF7F0E",
           "#2CA02C",
           "#D62728",
           "#9467BD",
           "#8C564B",
           "#E377C2",
           "#7F7F7F",
           "#BCBD22",
           "#17BECF"
          ],
          "font": {
           "color": "rgb(36,36,36)"
          },
          "geo": {
           "bgcolor": "white",
           "lakecolor": "white",
           "landcolor": "white",
           "showlakes": true,
           "showland": true,
           "subunitcolor": "white"
          },
          "hoverlabel": {
           "align": "left"
          },
          "hovermode": "closest",
          "mapbox": {
           "style": "light"
          },
          "paper_bgcolor": "white",
          "plot_bgcolor": "white",
          "polar": {
           "angularaxis": {
            "gridcolor": "rgb(232,232,232)",
            "linecolor": "rgb(36,36,36)",
            "showgrid": false,
            "showline": true,
            "ticks": "outside"
           },
           "bgcolor": "white",
           "radialaxis": {
            "gridcolor": "rgb(232,232,232)",
            "linecolor": "rgb(36,36,36)",
            "showgrid": false,
            "showline": true,
            "ticks": "outside"
           }
          },
          "scene": {
           "xaxis": {
            "backgroundcolor": "white",
            "gridcolor": "rgb(232,232,232)",
            "gridwidth": 2,
            "linecolor": "rgb(36,36,36)",
            "showbackground": true,
            "showgrid": false,
            "showline": true,
            "ticks": "outside",
            "zeroline": false,
            "zerolinecolor": "rgb(36,36,36)"
           },
           "yaxis": {
            "backgroundcolor": "white",
            "gridcolor": "rgb(232,232,232)",
            "gridwidth": 2,
            "linecolor": "rgb(36,36,36)",
            "showbackground": true,
            "showgrid": false,
            "showline": true,
            "ticks": "outside",
            "zeroline": false,
            "zerolinecolor": "rgb(36,36,36)"
           },
           "zaxis": {
            "backgroundcolor": "white",
            "gridcolor": "rgb(232,232,232)",
            "gridwidth": 2,
            "linecolor": "rgb(36,36,36)",
            "showbackground": true,
            "showgrid": false,
            "showline": true,
            "ticks": "outside",
            "zeroline": false,
            "zerolinecolor": "rgb(36,36,36)"
           }
          },
          "shapedefaults": {
           "fillcolor": "black",
           "line": {
            "width": 0
           },
           "opacity": 0.3
          },
          "ternary": {
           "aaxis": {
            "gridcolor": "rgb(232,232,232)",
            "linecolor": "rgb(36,36,36)",
            "showgrid": false,
            "showline": true,
            "ticks": "outside"
           },
           "baxis": {
            "gridcolor": "rgb(232,232,232)",
            "linecolor": "rgb(36,36,36)",
            "showgrid": false,
            "showline": true,
            "ticks": "outside"
           },
           "bgcolor": "white",
           "caxis": {
            "gridcolor": "rgb(232,232,232)",
            "linecolor": "rgb(36,36,36)",
            "showgrid": false,
            "showline": true,
            "ticks": "outside"
           }
          },
          "title": {
           "x": 0.05
          },
          "xaxis": {
           "automargin": true,
           "gridcolor": "rgb(232,232,232)",
           "linecolor": "rgb(36,36,36)",
           "showgrid": false,
           "showline": true,
           "ticks": "outside",
           "title": {
            "standoff": 15
           },
           "zeroline": false,
           "zerolinecolor": "rgb(36,36,36)"
          },
          "yaxis": {
           "automargin": true,
           "gridcolor": "rgb(232,232,232)",
           "linecolor": "rgb(36,36,36)",
           "showgrid": false,
           "showline": true,
           "ticks": "outside",
           "title": {
            "standoff": 15
           },
           "zeroline": false,
           "zerolinecolor": "rgb(36,36,36)"
          }
         }
        },
        "width": 700,
        "xaxis": {
         "anchor": "y",
         "domain": [
          0,
          1
         ],
         "mirror": true,
         "title": {
          "text": "sale through"
         }
        },
        "yaxis": {
         "anchor": "x",
         "domain": [
          0,
          1
         ],
         "mirror": true,
         "title": {
          "text": "fill rate"
         }
        }
       }
      }
     },
     "metadata": {},
     "output_type": "display_data"
    }
   ],
   "source": [
    "import plotly.express as px\n",
    "fig = px.scatter(x=sales_through_ls, y=fill_rate_ls,hover_name = [i for i in range(len(config_spaces))],opacity= .8 )\n",
    "\n",
    "fig.update_xaxes(mirror = True, title = 'sale through')\n",
    "fig.update_yaxes(mirror = True, title = 'fill rate')\n",
    "fig.update_layout(\n",
    "    template = 'simple_white', height = 600, width = 700,\n",
    ")\n",
    "\n"
   ]
  },
  {
   "cell_type": "code",
   "execution_count": null,
   "metadata": {},
   "outputs": [],
   "source": []
  },
  {
   "cell_type": "code",
   "execution_count": 100,
   "metadata": {},
   "outputs": [
    {
     "data": {
      "text/plain": [
       "{'lead_time_hud2channel': 5,\n",
       " 'lead_time_plant2hub': 15,\n",
       " 'safety_stock_factor': {'A': 3, 'B': 10, 'C': 15},\n",
       " 'channel_plan': {'channel 1': {'priority': 4, 'service_level': 0.9},\n",
       "  'channel 2': {'priority': 3, 'service_level': 0.9},\n",
       "  'channel 3': {'priority': 2, 'service_level': 0.9},\n",
       "  'channel 4': {'priority': 1, 'service_level': 0.9}}}"
      ]
     },
     "execution_count": 100,
     "metadata": {},
     "output_type": "execute_result"
    }
   ],
   "source": [
    "config_spaces[743]"
   ]
  },
  {
   "cell_type": "code",
   "execution_count": 82,
   "metadata": {},
   "outputs": [
    {
     "data": {
      "text/plain": [
       "16.8"
      ]
     },
     "execution_count": 82,
     "metadata": {},
     "output_type": "execute_result"
    }
   ],
   "source": [
    "28 * 0.6"
   ]
  },
  {
   "cell_type": "code",
   "execution_count": 83,
   "metadata": {},
   "outputs": [
    {
     "data": {
      "text/plain": [
       "12"
      ]
     },
     "execution_count": 83,
     "metadata": {},
     "output_type": "execute_result"
    }
   ],
   "source": [
    "12 "
   ]
  },
  {
   "cell_type": "code",
   "execution_count": 101,
   "metadata": {},
   "outputs": [
    {
     "name": "stderr",
     "output_type": "stream",
     "text": [
      "/var/folders/nx/d8ckq9qd7l3dz5plmv5gdj_40000gn/T/ipykernel_14531/1389068161.py:14: DeprecationWarning:\n",
      "\n",
      "DataFrameGroupBy.apply operated on the grouping columns. This behavior is deprecated, and in a future version of pandas the grouping columns will be excluded from the operation. Either pass `include_groups=False` to exclude the groupings or explicitly select the grouping columns after groupby to silence this warning.\n",
      "\n",
      "/var/folders/nx/d8ckq9qd7l3dz5plmv5gdj_40000gn/T/ipykernel_14531/1389068161.py:15: DeprecationWarning:\n",
      "\n",
      "DataFrameGroupBy.apply operated on the grouping columns. This behavior is deprecated, and in a future version of pandas the grouping columns will be excluded from the operation. Either pass `include_groups=False` to exclude the groupings or explicitly select the grouping columns after groupby to silence this warning.\n",
      "\n"
     ]
    }
   ],
   "source": [
    "import xlwings as xw\n",
    "\n",
    "df_allocation = generate_simulation(\n",
    "    config_spaces[743], \n",
    "    sku_ls,'2023-01-14', '2023-01-15', df_history, df_forecast, df_hub_stock, [1,2,3,4]\n",
    ")\n",
    "# df_allocation.to_excel('../data/allocation.xlsx', index= False)\n",
    "\n",
    "df_allocation['status'] = df_allocation.apply(get_status, axis = 1)\n",
    "df_allocation['date'] = pd.to_datetime(df_allocation['date'])\n",
    "\n",
    "\n",
    "df_status = pd.pivot_table(df_allocation, index=['sku_name', 'channel'],columns= 'date' ,values='status', aggfunc=lambda x: ', '.join(x))\n",
    "sales_through_breakdown = df_allocation.groupby(['sku_name','channel']).apply(lambda x: x.sales.sum()/(x['stock_in'].sum() + x[x['week']==0].stock) )\n",
    "stockout_breakdown = df_allocation.groupby(['sku_name','channel']).apply(lambda x: pd.Series(1 - x.sales.sum()/x.sales_potential_daily.sum(), index = ['stockout']))\n",
    "sales_through_breakdown.columns = ['sales_through']\n",
    "stockout_breakdown.columns = ['stockout']\n",
    "df_status = sales_through_breakdown.join(stockout_breakdown).join(df_status)\n",
    "\n",
    "# Connects to the active instance of Excel\n",
    "wb = xw.Book('../data/allocation.xlsx')  # Connects to the active instance of Excel\n",
    "sheet = wb.sheets['Sheet1']\n",
    "sheet.range(\"A:L\")[1:,:].clear_contents()\n",
    "sheet['A1'].options(index=False).value = df_allocation\n",
    "sheet = wb.sheets['Sheet2']\n",
    "sheet.range('A3').value = df_status\n",
    "\n",
    "\n",
    "sheet.range('A1').value = 'sale through rate:'\n",
    "sheet.range('C1').value = 'stockout rate:'\n",
    "sheet.range('A2').value = ttl_sales_through_rate(df_allocation)\n",
    "sheet.range('C2').value = ttl_sales_shortage_rate(df_allocation)"
   ]
  },
  {
   "cell_type": "code",
   "execution_count": 133,
   "metadata": {},
   "outputs": [
    {
     "data": {
      "text/plain": [
       "['sku_name', 'channel', 'sales_through', 'stockout']"
      ]
     },
     "execution_count": 133,
     "metadata": {},
     "output_type": "execute_result"
    }
   ],
   "source": []
  },
  {
   "cell_type": "code",
   "execution_count": null,
   "metadata": {},
   "outputs": [],
   "source": []
  },
  {
   "cell_type": "code",
   "execution_count": 134,
   "metadata": {},
   "outputs": [
    {
     "data": {
      "text/html": [
       "<div>\n",
       "<style scoped>\n",
       "    .dataframe tbody tr th:only-of-type {\n",
       "        vertical-align: middle;\n",
       "    }\n",
       "\n",
       "    .dataframe tbody tr th {\n",
       "        vertical-align: top;\n",
       "    }\n",
       "\n",
       "    .dataframe thead th {\n",
       "        text-align: right;\n",
       "    }\n",
       "</style>\n",
       "<table border=\"1\" class=\"dataframe\">\n",
       "  <thead>\n",
       "    <tr style=\"text-align: right;\">\n",
       "      <th></th>\n",
       "      <th>sku_name</th>\n",
       "      <th>channel</th>\n",
       "      <th>sales_through</th>\n",
       "      <th>stockout</th>\n",
       "      <th>2023 Jan 14</th>\n",
       "      <th>2023 Jan 15</th>\n",
       "      <th>2023 Jan 16</th>\n",
       "      <th>2023 Jan 17</th>\n",
       "      <th>2023 Jan 18</th>\n",
       "      <th>2023 Jan 19</th>\n",
       "      <th>...</th>\n",
       "      <th>2023 Feb 02</th>\n",
       "      <th>2023 Feb 03</th>\n",
       "      <th>2023 Feb 04</th>\n",
       "      <th>2023 Feb 05</th>\n",
       "      <th>2023 Feb 06</th>\n",
       "      <th>2023 Feb 07</th>\n",
       "      <th>2023 Feb 08</th>\n",
       "      <th>2023 Feb 09</th>\n",
       "      <th>2023 Feb 10</th>\n",
       "      <th>2023 Feb 11</th>\n",
       "    </tr>\n",
       "  </thead>\n",
       "  <tbody>\n",
       "    <tr>\n",
       "      <th>0</th>\n",
       "      <td>A</td>\n",
       "      <td>channel 1</td>\n",
       "      <td>0.863878</td>\n",
       "      <td>0.000000</td>\n",
       "      <td>risk</td>\n",
       "      <td>risk</td>\n",
       "      <td>risk</td>\n",
       "      <td>near stockout</td>\n",
       "      <td>near stockout</td>\n",
       "      <td>near stockout</td>\n",
       "      <td>...</td>\n",
       "      <td>full</td>\n",
       "      <td>full</td>\n",
       "      <td>full</td>\n",
       "      <td>full</td>\n",
       "      <td>risk</td>\n",
       "      <td>risk</td>\n",
       "      <td>risk</td>\n",
       "      <td>risk</td>\n",
       "      <td>risk</td>\n",
       "      <td>near stockout</td>\n",
       "    </tr>\n",
       "    <tr>\n",
       "      <th>1</th>\n",
       "      <td>A</td>\n",
       "      <td>channel 2</td>\n",
       "      <td>0.864080</td>\n",
       "      <td>0.000000</td>\n",
       "      <td>risk</td>\n",
       "      <td>risk</td>\n",
       "      <td>risk</td>\n",
       "      <td>near stockout</td>\n",
       "      <td>near stockout</td>\n",
       "      <td>near stockout</td>\n",
       "      <td>...</td>\n",
       "      <td>full</td>\n",
       "      <td>full</td>\n",
       "      <td>full</td>\n",
       "      <td>full</td>\n",
       "      <td>risk</td>\n",
       "      <td>risk</td>\n",
       "      <td>risk</td>\n",
       "      <td>risk</td>\n",
       "      <td>risk</td>\n",
       "      <td>near stockout</td>\n",
       "    </tr>\n",
       "    <tr>\n",
       "      <th>2</th>\n",
       "      <td>A</td>\n",
       "      <td>channel 3</td>\n",
       "      <td>0.863960</td>\n",
       "      <td>0.000000</td>\n",
       "      <td>risk</td>\n",
       "      <td>risk</td>\n",
       "      <td>risk</td>\n",
       "      <td>near stockout</td>\n",
       "      <td>near stockout</td>\n",
       "      <td>near stockout</td>\n",
       "      <td>...</td>\n",
       "      <td>full</td>\n",
       "      <td>full</td>\n",
       "      <td>full</td>\n",
       "      <td>full</td>\n",
       "      <td>risk</td>\n",
       "      <td>risk</td>\n",
       "      <td>risk</td>\n",
       "      <td>risk</td>\n",
       "      <td>risk</td>\n",
       "      <td>near stockout</td>\n",
       "    </tr>\n",
       "    <tr>\n",
       "      <th>3</th>\n",
       "      <td>A</td>\n",
       "      <td>channel 4</td>\n",
       "      <td>0.810586</td>\n",
       "      <td>0.061427</td>\n",
       "      <td>risk</td>\n",
       "      <td>risk</td>\n",
       "      <td>risk</td>\n",
       "      <td>risk</td>\n",
       "      <td>near stockout</td>\n",
       "      <td>near stockout</td>\n",
       "      <td>...</td>\n",
       "      <td>full</td>\n",
       "      <td>full</td>\n",
       "      <td>full</td>\n",
       "      <td>full</td>\n",
       "      <td>full</td>\n",
       "      <td>risk</td>\n",
       "      <td>risk</td>\n",
       "      <td>risk</td>\n",
       "      <td>risk</td>\n",
       "      <td>risk</td>\n",
       "    </tr>\n",
       "    <tr>\n",
       "      <th>4</th>\n",
       "      <td>B</td>\n",
       "      <td>channel 1</td>\n",
       "      <td>0.863179</td>\n",
       "      <td>0.000000</td>\n",
       "      <td>risk</td>\n",
       "      <td>risk</td>\n",
       "      <td>risk</td>\n",
       "      <td>near stockout</td>\n",
       "      <td>near stockout</td>\n",
       "      <td>near stockout</td>\n",
       "      <td>...</td>\n",
       "      <td>full</td>\n",
       "      <td>full</td>\n",
       "      <td>full</td>\n",
       "      <td>full</td>\n",
       "      <td>risk</td>\n",
       "      <td>risk</td>\n",
       "      <td>risk</td>\n",
       "      <td>risk</td>\n",
       "      <td>risk</td>\n",
       "      <td>near stockout</td>\n",
       "    </tr>\n",
       "    <tr>\n",
       "      <th>5</th>\n",
       "      <td>B</td>\n",
       "      <td>channel 2</td>\n",
       "      <td>0.864101</td>\n",
       "      <td>0.000000</td>\n",
       "      <td>risk</td>\n",
       "      <td>risk</td>\n",
       "      <td>risk</td>\n",
       "      <td>near stockout</td>\n",
       "      <td>near stockout</td>\n",
       "      <td>near stockout</td>\n",
       "      <td>...</td>\n",
       "      <td>full</td>\n",
       "      <td>full</td>\n",
       "      <td>full</td>\n",
       "      <td>full</td>\n",
       "      <td>risk</td>\n",
       "      <td>risk</td>\n",
       "      <td>risk</td>\n",
       "      <td>risk</td>\n",
       "      <td>risk</td>\n",
       "      <td>near stockout</td>\n",
       "    </tr>\n",
       "    <tr>\n",
       "      <th>6</th>\n",
       "      <td>B</td>\n",
       "      <td>channel 3</td>\n",
       "      <td>0.863176</td>\n",
       "      <td>0.000000</td>\n",
       "      <td>risk</td>\n",
       "      <td>risk</td>\n",
       "      <td>risk</td>\n",
       "      <td>near stockout</td>\n",
       "      <td>near stockout</td>\n",
       "      <td>near stockout</td>\n",
       "      <td>...</td>\n",
       "      <td>full</td>\n",
       "      <td>full</td>\n",
       "      <td>full</td>\n",
       "      <td>risk</td>\n",
       "      <td>risk</td>\n",
       "      <td>risk</td>\n",
       "      <td>risk</td>\n",
       "      <td>risk</td>\n",
       "      <td>risk</td>\n",
       "      <td>near stockout</td>\n",
       "    </tr>\n",
       "    <tr>\n",
       "      <th>7</th>\n",
       "      <td>B</td>\n",
       "      <td>channel 4</td>\n",
       "      <td>0.862372</td>\n",
       "      <td>0.000000</td>\n",
       "      <td>risk</td>\n",
       "      <td>risk</td>\n",
       "      <td>risk</td>\n",
       "      <td>near stockout</td>\n",
       "      <td>near stockout</td>\n",
       "      <td>near stockout</td>\n",
       "      <td>...</td>\n",
       "      <td>full</td>\n",
       "      <td>full</td>\n",
       "      <td>full</td>\n",
       "      <td>full</td>\n",
       "      <td>risk</td>\n",
       "      <td>risk</td>\n",
       "      <td>risk</td>\n",
       "      <td>risk</td>\n",
       "      <td>risk</td>\n",
       "      <td>near stockout</td>\n",
       "    </tr>\n",
       "    <tr>\n",
       "      <th>8</th>\n",
       "      <td>C</td>\n",
       "      <td>channel 1</td>\n",
       "      <td>0.853933</td>\n",
       "      <td>0.000000</td>\n",
       "      <td>risk</td>\n",
       "      <td>risk</td>\n",
       "      <td>risk</td>\n",
       "      <td>near stockout</td>\n",
       "      <td>near stockout</td>\n",
       "      <td>near stockout</td>\n",
       "      <td>...</td>\n",
       "      <td>full</td>\n",
       "      <td>full</td>\n",
       "      <td>full</td>\n",
       "      <td>risk</td>\n",
       "      <td>risk</td>\n",
       "      <td>risk</td>\n",
       "      <td>risk</td>\n",
       "      <td>risk</td>\n",
       "      <td>risk</td>\n",
       "      <td>near stockout</td>\n",
       "    </tr>\n",
       "    <tr>\n",
       "      <th>9</th>\n",
       "      <td>C</td>\n",
       "      <td>channel 2</td>\n",
       "      <td>0.863501</td>\n",
       "      <td>0.000000</td>\n",
       "      <td>risk</td>\n",
       "      <td>risk</td>\n",
       "      <td>risk</td>\n",
       "      <td>near stockout</td>\n",
       "      <td>near stockout</td>\n",
       "      <td>near stockout</td>\n",
       "      <td>...</td>\n",
       "      <td>full</td>\n",
       "      <td>full</td>\n",
       "      <td>full</td>\n",
       "      <td>full</td>\n",
       "      <td>risk</td>\n",
       "      <td>risk</td>\n",
       "      <td>risk</td>\n",
       "      <td>risk</td>\n",
       "      <td>risk</td>\n",
       "      <td>near stockout</td>\n",
       "    </tr>\n",
       "    <tr>\n",
       "      <th>10</th>\n",
       "      <td>C</td>\n",
       "      <td>channel 3</td>\n",
       "      <td>0.850746</td>\n",
       "      <td>0.000000</td>\n",
       "      <td>risk</td>\n",
       "      <td>risk</td>\n",
       "      <td>risk</td>\n",
       "      <td>near stockout</td>\n",
       "      <td>near stockout</td>\n",
       "      <td>near stockout</td>\n",
       "      <td>...</td>\n",
       "      <td>full</td>\n",
       "      <td>full</td>\n",
       "      <td>full</td>\n",
       "      <td>full</td>\n",
       "      <td>risk</td>\n",
       "      <td>risk</td>\n",
       "      <td>risk</td>\n",
       "      <td>risk</td>\n",
       "      <td>risk</td>\n",
       "      <td>near stockout</td>\n",
       "    </tr>\n",
       "    <tr>\n",
       "      <th>11</th>\n",
       "      <td>C</td>\n",
       "      <td>channel 4</td>\n",
       "      <td>0.862069</td>\n",
       "      <td>0.000000</td>\n",
       "      <td>risk</td>\n",
       "      <td>risk</td>\n",
       "      <td>risk</td>\n",
       "      <td>near stockout</td>\n",
       "      <td>near stockout</td>\n",
       "      <td>near stockout</td>\n",
       "      <td>...</td>\n",
       "      <td>full</td>\n",
       "      <td>full</td>\n",
       "      <td>full</td>\n",
       "      <td>full</td>\n",
       "      <td>risk</td>\n",
       "      <td>risk</td>\n",
       "      <td>risk</td>\n",
       "      <td>risk</td>\n",
       "      <td>risk</td>\n",
       "      <td>near stockout</td>\n",
       "    </tr>\n",
       "  </tbody>\n",
       "</table>\n",
       "<p>12 rows × 33 columns</p>\n",
       "</div>"
      ],
      "text/plain": [
       "   sku_name    channel  sales_through  stockout 2023 Jan 14 2023 Jan 15  \\\n",
       "0         A  channel 1       0.863878  0.000000        risk        risk   \n",
       "1         A  channel 2       0.864080  0.000000        risk        risk   \n",
       "2         A  channel 3       0.863960  0.000000        risk        risk   \n",
       "3         A  channel 4       0.810586  0.061427        risk        risk   \n",
       "4         B  channel 1       0.863179  0.000000        risk        risk   \n",
       "5         B  channel 2       0.864101  0.000000        risk        risk   \n",
       "6         B  channel 3       0.863176  0.000000        risk        risk   \n",
       "7         B  channel 4       0.862372  0.000000        risk        risk   \n",
       "8         C  channel 1       0.853933  0.000000        risk        risk   \n",
       "9         C  channel 2       0.863501  0.000000        risk        risk   \n",
       "10        C  channel 3       0.850746  0.000000        risk        risk   \n",
       "11        C  channel 4       0.862069  0.000000        risk        risk   \n",
       "\n",
       "   2023 Jan 16    2023 Jan 17    2023 Jan 18    2023 Jan 19  ... 2023 Feb 02  \\\n",
       "0         risk  near stockout  near stockout  near stockout  ...        full   \n",
       "1         risk  near stockout  near stockout  near stockout  ...        full   \n",
       "2         risk  near stockout  near stockout  near stockout  ...        full   \n",
       "3         risk           risk  near stockout  near stockout  ...        full   \n",
       "4         risk  near stockout  near stockout  near stockout  ...        full   \n",
       "5         risk  near stockout  near stockout  near stockout  ...        full   \n",
       "6         risk  near stockout  near stockout  near stockout  ...        full   \n",
       "7         risk  near stockout  near stockout  near stockout  ...        full   \n",
       "8         risk  near stockout  near stockout  near stockout  ...        full   \n",
       "9         risk  near stockout  near stockout  near stockout  ...        full   \n",
       "10        risk  near stockout  near stockout  near stockout  ...        full   \n",
       "11        risk  near stockout  near stockout  near stockout  ...        full   \n",
       "\n",
       "   2023 Feb 03 2023 Feb 04 2023 Feb 05 2023 Feb 06 2023 Feb 07 2023 Feb 08  \\\n",
       "0         full        full        full        risk        risk        risk   \n",
       "1         full        full        full        risk        risk        risk   \n",
       "2         full        full        full        risk        risk        risk   \n",
       "3         full        full        full        full        risk        risk   \n",
       "4         full        full        full        risk        risk        risk   \n",
       "5         full        full        full        risk        risk        risk   \n",
       "6         full        full        risk        risk        risk        risk   \n",
       "7         full        full        full        risk        risk        risk   \n",
       "8         full        full        risk        risk        risk        risk   \n",
       "9         full        full        full        risk        risk        risk   \n",
       "10        full        full        full        risk        risk        risk   \n",
       "11        full        full        full        risk        risk        risk   \n",
       "\n",
       "   2023 Feb 09 2023 Feb 10    2023 Feb 11  \n",
       "0         risk        risk  near stockout  \n",
       "1         risk        risk  near stockout  \n",
       "2         risk        risk  near stockout  \n",
       "3         risk        risk           risk  \n",
       "4         risk        risk  near stockout  \n",
       "5         risk        risk  near stockout  \n",
       "6         risk        risk  near stockout  \n",
       "7         risk        risk  near stockout  \n",
       "8         risk        risk  near stockout  \n",
       "9         risk        risk  near stockout  \n",
       "10        risk        risk  near stockout  \n",
       "11        risk        risk  near stockout  \n",
       "\n",
       "[12 rows x 33 columns]"
      ]
     },
     "execution_count": 134,
     "metadata": {},
     "output_type": "execute_result"
    }
   ],
   "source": [
    "from datetime import datetime as dt \n",
    "import dash_ag_grid as dag\n",
    "\n",
    "def _status2table(df_status):\n",
    "    df_status_ = df_status.reset_index()\n",
    "    datetime_cols = [i.strftime(\"%Y %b %d\") for i in df_status_.columns[4:]]\n",
    "    df_status_.columns = list(df_status_.columns[:4]) + datetime_cols\n",
    "\n",
    "    columnDef = [\n",
    "        {'field': c}\n",
    "        for c in df_status_.columns\n",
    "    ]\n",
    "\n",
    "    status_table = dag.AgGrid(\n",
    "            id='status-table',\n",
    "            rowData=df_status_.to_dict('records'),\n",
    "            columnDefs=columnDef,\n",
    "            defaultColDef={\"filter\": False},\n",
    "            columnSize=\"sizeToFit\",\n",
    "            style= {\n",
    "                'height':240, 'font-size':'12rem'\n",
    "            }\n",
    "    )\n",
    "    \n",
    "    return status_table"
   ]
  },
  {
   "cell_type": "code",
   "execution_count": 136,
   "metadata": {},
   "outputs": [
    {
     "data": {
      "text/plain": [
       "[{'sku_name': 'A',\n",
       "  'channel': 'channel 1',\n",
       "  'sales_through': 0.8638781431334621,\n",
       "  'stockout': 0.0,\n",
       "  '2023 Jan 14': 'risk',\n",
       "  '2023 Jan 15': 'risk',\n",
       "  '2023 Jan 16': 'risk',\n",
       "  '2023 Jan 17': 'near stockout',\n",
       "  '2023 Jan 18': 'near stockout',\n",
       "  '2023 Jan 19': 'near stockout',\n",
       "  '2023 Jan 20': 'hub',\n",
       "  '2023 Jan 21': 'full',\n",
       "  '2023 Jan 22': 'full',\n",
       "  '2023 Jan 23': 'full',\n",
       "  '2023 Jan 24': 'full',\n",
       "  '2023 Jan 25': 'full',\n",
       "  '2023 Jan 26': 'full',\n",
       "  '2023 Jan 27': 'full',\n",
       "  '2023 Jan 28': 'full',\n",
       "  '2023 Jan 29': 'full',\n",
       "  '2023 Jan 30': 'full',\n",
       "  '2023 Jan 31': 'full',\n",
       "  '2023 Feb 01': 'full',\n",
       "  '2023 Feb 02': 'full',\n",
       "  '2023 Feb 03': 'full',\n",
       "  '2023 Feb 04': 'full',\n",
       "  '2023 Feb 05': 'full',\n",
       "  '2023 Feb 06': 'risk',\n",
       "  '2023 Feb 07': 'risk',\n",
       "  '2023 Feb 08': 'risk',\n",
       "  '2023 Feb 09': 'risk',\n",
       "  '2023 Feb 10': 'risk',\n",
       "  '2023 Feb 11': 'near stockout'},\n",
       " {'sku_name': 'A',\n",
       "  'channel': 'channel 2',\n",
       "  'sales_through': 0.8640796019900497,\n",
       "  'stockout': 0.0,\n",
       "  '2023 Jan 14': 'risk',\n",
       "  '2023 Jan 15': 'risk',\n",
       "  '2023 Jan 16': 'risk',\n",
       "  '2023 Jan 17': 'near stockout',\n",
       "  '2023 Jan 18': 'near stockout',\n",
       "  '2023 Jan 19': 'near stockout',\n",
       "  '2023 Jan 20': 'hub',\n",
       "  '2023 Jan 21': 'full',\n",
       "  '2023 Jan 22': 'full',\n",
       "  '2023 Jan 23': 'full',\n",
       "  '2023 Jan 24': 'full',\n",
       "  '2023 Jan 25': 'full',\n",
       "  '2023 Jan 26': 'full',\n",
       "  '2023 Jan 27': 'full',\n",
       "  '2023 Jan 28': 'full',\n",
       "  '2023 Jan 29': 'full',\n",
       "  '2023 Jan 30': 'full',\n",
       "  '2023 Jan 31': 'full',\n",
       "  '2023 Feb 01': 'full',\n",
       "  '2023 Feb 02': 'full',\n",
       "  '2023 Feb 03': 'full',\n",
       "  '2023 Feb 04': 'full',\n",
       "  '2023 Feb 05': 'full',\n",
       "  '2023 Feb 06': 'risk',\n",
       "  '2023 Feb 07': 'risk',\n",
       "  '2023 Feb 08': 'risk',\n",
       "  '2023 Feb 09': 'risk',\n",
       "  '2023 Feb 10': 'risk',\n",
       "  '2023 Feb 11': 'near stockout'},\n",
       " {'sku_name': 'A',\n",
       "  'channel': 'channel 3',\n",
       "  'sales_through': 0.863959691760522,\n",
       "  'stockout': 0.0,\n",
       "  '2023 Jan 14': 'risk',\n",
       "  '2023 Jan 15': 'risk',\n",
       "  '2023 Jan 16': 'risk',\n",
       "  '2023 Jan 17': 'near stockout',\n",
       "  '2023 Jan 18': 'near stockout',\n",
       "  '2023 Jan 19': 'near stockout',\n",
       "  '2023 Jan 20': 'hub',\n",
       "  '2023 Jan 21': 'full',\n",
       "  '2023 Jan 22': 'risk',\n",
       "  '2023 Jan 23': 'risk',\n",
       "  '2023 Jan 24': 'risk',\n",
       "  '2023 Jan 25': 'manufacture',\n",
       "  '2023 Jan 26': 'full',\n",
       "  '2023 Jan 27': 'full',\n",
       "  '2023 Jan 28': 'full',\n",
       "  '2023 Jan 29': 'full',\n",
       "  '2023 Jan 30': 'full',\n",
       "  '2023 Jan 31': 'full',\n",
       "  '2023 Feb 01': 'full',\n",
       "  '2023 Feb 02': 'full',\n",
       "  '2023 Feb 03': 'full',\n",
       "  '2023 Feb 04': 'full',\n",
       "  '2023 Feb 05': 'full',\n",
       "  '2023 Feb 06': 'risk',\n",
       "  '2023 Feb 07': 'risk',\n",
       "  '2023 Feb 08': 'risk',\n",
       "  '2023 Feb 09': 'risk',\n",
       "  '2023 Feb 10': 'risk',\n",
       "  '2023 Feb 11': 'near stockout'},\n",
       " {'sku_name': 'A',\n",
       "  'channel': 'channel 4',\n",
       "  'sales_through': 0.8105856407743199,\n",
       "  'stockout': 0.061427152787629447,\n",
       "  '2023 Jan 14': 'risk',\n",
       "  '2023 Jan 15': 'risk',\n",
       "  '2023 Jan 16': 'risk',\n",
       "  '2023 Jan 17': 'risk',\n",
       "  '2023 Jan 18': 'near stockout',\n",
       "  '2023 Jan 19': 'near stockout',\n",
       "  '2023 Jan 20': 'near stockout',\n",
       "  '2023 Jan 21': 'near stockout',\n",
       "  '2023 Jan 22': 'near stockout',\n",
       "  '2023 Jan 23': 'stockout',\n",
       "  '2023 Jan 24': 'stockout',\n",
       "  '2023 Jan 25': 'manufacture',\n",
       "  '2023 Jan 26': 'full',\n",
       "  '2023 Jan 27': 'full',\n",
       "  '2023 Jan 28': 'full',\n",
       "  '2023 Jan 29': 'full',\n",
       "  '2023 Jan 30': 'full',\n",
       "  '2023 Jan 31': 'full',\n",
       "  '2023 Feb 01': 'full',\n",
       "  '2023 Feb 02': 'full',\n",
       "  '2023 Feb 03': 'full',\n",
       "  '2023 Feb 04': 'full',\n",
       "  '2023 Feb 05': 'full',\n",
       "  '2023 Feb 06': 'full',\n",
       "  '2023 Feb 07': 'risk',\n",
       "  '2023 Feb 08': 'risk',\n",
       "  '2023 Feb 09': 'risk',\n",
       "  '2023 Feb 10': 'risk',\n",
       "  '2023 Feb 11': 'risk'},\n",
       " {'sku_name': 'B',\n",
       "  'channel': 'channel 1',\n",
       "  'sales_through': 0.8631790744466801,\n",
       "  'stockout': 0.0,\n",
       "  '2023 Jan 14': 'risk',\n",
       "  '2023 Jan 15': 'risk',\n",
       "  '2023 Jan 16': 'risk',\n",
       "  '2023 Jan 17': 'near stockout',\n",
       "  '2023 Jan 18': 'near stockout',\n",
       "  '2023 Jan 19': 'near stockout',\n",
       "  '2023 Jan 20': 'hub',\n",
       "  '2023 Jan 21': 'full',\n",
       "  '2023 Jan 22': 'full',\n",
       "  '2023 Jan 23': 'full',\n",
       "  '2023 Jan 24': 'full',\n",
       "  '2023 Jan 25': 'full',\n",
       "  '2023 Jan 26': 'full',\n",
       "  '2023 Jan 27': 'full',\n",
       "  '2023 Jan 28': 'full',\n",
       "  '2023 Jan 29': 'full',\n",
       "  '2023 Jan 30': 'full',\n",
       "  '2023 Jan 31': 'full',\n",
       "  '2023 Feb 01': 'full',\n",
       "  '2023 Feb 02': 'full',\n",
       "  '2023 Feb 03': 'full',\n",
       "  '2023 Feb 04': 'full',\n",
       "  '2023 Feb 05': 'full',\n",
       "  '2023 Feb 06': 'risk',\n",
       "  '2023 Feb 07': 'risk',\n",
       "  '2023 Feb 08': 'risk',\n",
       "  '2023 Feb 09': 'risk',\n",
       "  '2023 Feb 10': 'risk',\n",
       "  '2023 Feb 11': 'near stockout'},\n",
       " {'sku_name': 'B',\n",
       "  'channel': 'channel 2',\n",
       "  'sales_through': 0.8641005498821681,\n",
       "  'stockout': 0.0,\n",
       "  '2023 Jan 14': 'risk',\n",
       "  '2023 Jan 15': 'risk',\n",
       "  '2023 Jan 16': 'risk',\n",
       "  '2023 Jan 17': 'near stockout',\n",
       "  '2023 Jan 18': 'near stockout',\n",
       "  '2023 Jan 19': 'near stockout',\n",
       "  '2023 Jan 20': 'hub',\n",
       "  '2023 Jan 21': 'full',\n",
       "  '2023 Jan 22': 'full',\n",
       "  '2023 Jan 23': 'full',\n",
       "  '2023 Jan 24': 'full',\n",
       "  '2023 Jan 25': 'full',\n",
       "  '2023 Jan 26': 'full',\n",
       "  '2023 Jan 27': 'full',\n",
       "  '2023 Jan 28': 'full',\n",
       "  '2023 Jan 29': 'full',\n",
       "  '2023 Jan 30': 'full',\n",
       "  '2023 Jan 31': 'full',\n",
       "  '2023 Feb 01': 'full',\n",
       "  '2023 Feb 02': 'full',\n",
       "  '2023 Feb 03': 'full',\n",
       "  '2023 Feb 04': 'full',\n",
       "  '2023 Feb 05': 'full',\n",
       "  '2023 Feb 06': 'risk',\n",
       "  '2023 Feb 07': 'risk',\n",
       "  '2023 Feb 08': 'risk',\n",
       "  '2023 Feb 09': 'risk',\n",
       "  '2023 Feb 10': 'risk',\n",
       "  '2023 Feb 11': 'near stockout'},\n",
       " {'sku_name': 'B',\n",
       "  'channel': 'channel 3',\n",
       "  'sales_through': 0.8631756756756755,\n",
       "  'stockout': 0.0,\n",
       "  '2023 Jan 14': 'risk',\n",
       "  '2023 Jan 15': 'risk',\n",
       "  '2023 Jan 16': 'risk',\n",
       "  '2023 Jan 17': 'near stockout',\n",
       "  '2023 Jan 18': 'near stockout',\n",
       "  '2023 Jan 19': 'near stockout',\n",
       "  '2023 Jan 20': 'hub',\n",
       "  '2023 Jan 21': 'full',\n",
       "  '2023 Jan 22': 'full',\n",
       "  '2023 Jan 23': 'full',\n",
       "  '2023 Jan 24': 'full',\n",
       "  '2023 Jan 25': 'full',\n",
       "  '2023 Jan 26': 'full',\n",
       "  '2023 Jan 27': 'full',\n",
       "  '2023 Jan 28': 'full',\n",
       "  '2023 Jan 29': 'full',\n",
       "  '2023 Jan 30': 'full',\n",
       "  '2023 Jan 31': 'full',\n",
       "  '2023 Feb 01': 'full',\n",
       "  '2023 Feb 02': 'full',\n",
       "  '2023 Feb 03': 'full',\n",
       "  '2023 Feb 04': 'full',\n",
       "  '2023 Feb 05': 'risk',\n",
       "  '2023 Feb 06': 'risk',\n",
       "  '2023 Feb 07': 'risk',\n",
       "  '2023 Feb 08': 'risk',\n",
       "  '2023 Feb 09': 'risk',\n",
       "  '2023 Feb 10': 'risk',\n",
       "  '2023 Feb 11': 'near stockout'},\n",
       " {'sku_name': 'B',\n",
       "  'channel': 'channel 4',\n",
       "  'sales_through': 0.8623718887262083,\n",
       "  'stockout': 0.0,\n",
       "  '2023 Jan 14': 'risk',\n",
       "  '2023 Jan 15': 'risk',\n",
       "  '2023 Jan 16': 'risk',\n",
       "  '2023 Jan 17': 'near stockout',\n",
       "  '2023 Jan 18': 'near stockout',\n",
       "  '2023 Jan 19': 'near stockout',\n",
       "  '2023 Jan 20': 'hub',\n",
       "  '2023 Jan 21': 'full',\n",
       "  '2023 Jan 22': 'full',\n",
       "  '2023 Jan 23': 'full',\n",
       "  '2023 Jan 24': 'full',\n",
       "  '2023 Jan 25': 'full',\n",
       "  '2023 Jan 26': 'full',\n",
       "  '2023 Jan 27': 'full',\n",
       "  '2023 Jan 28': 'full',\n",
       "  '2023 Jan 29': 'full',\n",
       "  '2023 Jan 30': 'full',\n",
       "  '2023 Jan 31': 'full',\n",
       "  '2023 Feb 01': 'full',\n",
       "  '2023 Feb 02': 'full',\n",
       "  '2023 Feb 03': 'full',\n",
       "  '2023 Feb 04': 'full',\n",
       "  '2023 Feb 05': 'full',\n",
       "  '2023 Feb 06': 'risk',\n",
       "  '2023 Feb 07': 'risk',\n",
       "  '2023 Feb 08': 'risk',\n",
       "  '2023 Feb 09': 'risk',\n",
       "  '2023 Feb 10': 'risk',\n",
       "  '2023 Feb 11': 'near stockout'},\n",
       " {'sku_name': 'C',\n",
       "  'channel': 'channel 1',\n",
       "  'sales_through': 0.8539325842696631,\n",
       "  'stockout': 0.0,\n",
       "  '2023 Jan 14': 'risk',\n",
       "  '2023 Jan 15': 'risk',\n",
       "  '2023 Jan 16': 'risk',\n",
       "  '2023 Jan 17': 'near stockout',\n",
       "  '2023 Jan 18': 'near stockout',\n",
       "  '2023 Jan 19': 'near stockout',\n",
       "  '2023 Jan 20': 'hub',\n",
       "  '2023 Jan 21': 'full',\n",
       "  '2023 Jan 22': 'full',\n",
       "  '2023 Jan 23': 'full',\n",
       "  '2023 Jan 24': 'full',\n",
       "  '2023 Jan 25': 'full',\n",
       "  '2023 Jan 26': 'full',\n",
       "  '2023 Jan 27': 'full',\n",
       "  '2023 Jan 28': 'full',\n",
       "  '2023 Jan 29': 'full',\n",
       "  '2023 Jan 30': 'full',\n",
       "  '2023 Jan 31': 'full',\n",
       "  '2023 Feb 01': 'full',\n",
       "  '2023 Feb 02': 'full',\n",
       "  '2023 Feb 03': 'full',\n",
       "  '2023 Feb 04': 'full',\n",
       "  '2023 Feb 05': 'risk',\n",
       "  '2023 Feb 06': 'risk',\n",
       "  '2023 Feb 07': 'risk',\n",
       "  '2023 Feb 08': 'risk',\n",
       "  '2023 Feb 09': 'risk',\n",
       "  '2023 Feb 10': 'risk',\n",
       "  '2023 Feb 11': 'near stockout'},\n",
       " {'sku_name': 'C',\n",
       "  'channel': 'channel 2',\n",
       "  'sales_through': 0.8635014836795254,\n",
       "  'stockout': 0.0,\n",
       "  '2023 Jan 14': 'risk',\n",
       "  '2023 Jan 15': 'risk',\n",
       "  '2023 Jan 16': 'risk',\n",
       "  '2023 Jan 17': 'near stockout',\n",
       "  '2023 Jan 18': 'near stockout',\n",
       "  '2023 Jan 19': 'near stockout',\n",
       "  '2023 Jan 20': 'hub',\n",
       "  '2023 Jan 21': 'full',\n",
       "  '2023 Jan 22': 'full',\n",
       "  '2023 Jan 23': 'full',\n",
       "  '2023 Jan 24': 'full',\n",
       "  '2023 Jan 25': 'full',\n",
       "  '2023 Jan 26': 'full',\n",
       "  '2023 Jan 27': 'full',\n",
       "  '2023 Jan 28': 'full',\n",
       "  '2023 Jan 29': 'full',\n",
       "  '2023 Jan 30': 'full',\n",
       "  '2023 Jan 31': 'full',\n",
       "  '2023 Feb 01': 'full',\n",
       "  '2023 Feb 02': 'full',\n",
       "  '2023 Feb 03': 'full',\n",
       "  '2023 Feb 04': 'full',\n",
       "  '2023 Feb 05': 'full',\n",
       "  '2023 Feb 06': 'risk',\n",
       "  '2023 Feb 07': 'risk',\n",
       "  '2023 Feb 08': 'risk',\n",
       "  '2023 Feb 09': 'risk',\n",
       "  '2023 Feb 10': 'risk',\n",
       "  '2023 Feb 11': 'near stockout'},\n",
       " {'sku_name': 'C',\n",
       "  'channel': 'channel 3',\n",
       "  'sales_through': 0.8507462686567168,\n",
       "  'stockout': 0.0,\n",
       "  '2023 Jan 14': 'risk',\n",
       "  '2023 Jan 15': 'risk',\n",
       "  '2023 Jan 16': 'risk',\n",
       "  '2023 Jan 17': 'near stockout',\n",
       "  '2023 Jan 18': 'near stockout',\n",
       "  '2023 Jan 19': 'near stockout',\n",
       "  '2023 Jan 20': 'hub',\n",
       "  '2023 Jan 21': 'full',\n",
       "  '2023 Jan 22': 'full',\n",
       "  '2023 Jan 23': 'full',\n",
       "  '2023 Jan 24': 'full',\n",
       "  '2023 Jan 25': 'full',\n",
       "  '2023 Jan 26': 'full',\n",
       "  '2023 Jan 27': 'full',\n",
       "  '2023 Jan 28': 'full',\n",
       "  '2023 Jan 29': 'full',\n",
       "  '2023 Jan 30': 'full',\n",
       "  '2023 Jan 31': 'full',\n",
       "  '2023 Feb 01': 'full',\n",
       "  '2023 Feb 02': 'full',\n",
       "  '2023 Feb 03': 'full',\n",
       "  '2023 Feb 04': 'full',\n",
       "  '2023 Feb 05': 'full',\n",
       "  '2023 Feb 06': 'risk',\n",
       "  '2023 Feb 07': 'risk',\n",
       "  '2023 Feb 08': 'risk',\n",
       "  '2023 Feb 09': 'risk',\n",
       "  '2023 Feb 10': 'risk',\n",
       "  '2023 Feb 11': 'near stockout'},\n",
       " {'sku_name': 'C',\n",
       "  'channel': 'channel 4',\n",
       "  'sales_through': 0.8620689655172415,\n",
       "  'stockout': 0.0,\n",
       "  '2023 Jan 14': 'risk',\n",
       "  '2023 Jan 15': 'risk',\n",
       "  '2023 Jan 16': 'risk',\n",
       "  '2023 Jan 17': 'near stockout',\n",
       "  '2023 Jan 18': 'near stockout',\n",
       "  '2023 Jan 19': 'near stockout',\n",
       "  '2023 Jan 20': 'hub',\n",
       "  '2023 Jan 21': 'full',\n",
       "  '2023 Jan 22': 'full',\n",
       "  '2023 Jan 23': 'full',\n",
       "  '2023 Jan 24': 'full',\n",
       "  '2023 Jan 25': 'full',\n",
       "  '2023 Jan 26': 'full',\n",
       "  '2023 Jan 27': 'full',\n",
       "  '2023 Jan 28': 'full',\n",
       "  '2023 Jan 29': 'full',\n",
       "  '2023 Jan 30': 'full',\n",
       "  '2023 Jan 31': 'full',\n",
       "  '2023 Feb 01': 'full',\n",
       "  '2023 Feb 02': 'full',\n",
       "  '2023 Feb 03': 'full',\n",
       "  '2023 Feb 04': 'full',\n",
       "  '2023 Feb 05': 'full',\n",
       "  '2023 Feb 06': 'risk',\n",
       "  '2023 Feb 07': 'risk',\n",
       "  '2023 Feb 08': 'risk',\n",
       "  '2023 Feb 09': 'risk',\n",
       "  '2023 Feb 10': 'risk',\n",
       "  '2023 Feb 11': 'near stockout'}]"
      ]
     },
     "execution_count": 136,
     "metadata": {},
     "output_type": "execute_result"
    }
   ],
   "source": []
  },
  {
   "cell_type": "code",
   "execution_count": null,
   "metadata": {},
   "outputs": [],
   "source": []
  },
  {
   "cell_type": "code",
   "execution_count": 126,
   "metadata": {},
   "outputs": [
    {
     "data": {
      "text/plain": [
       "['2023 00 14',\n",
       " '2023 00 15',\n",
       " '2023 00 16',\n",
       " '2023 00 17',\n",
       " '2023 00 18',\n",
       " '2023 00 19',\n",
       " '2023 00 20',\n",
       " '2023 00 21',\n",
       " '2023 00 22',\n",
       " '2023 00 23',\n",
       " '2023 00 24',\n",
       " '2023 00 25',\n",
       " '2023 00 26',\n",
       " '2023 00 27',\n",
       " '2023 00 28',\n",
       " '2023 00 29',\n",
       " '2023 00 30',\n",
       " '2023 00 31',\n",
       " '2023 00 01',\n",
       " '2023 00 02',\n",
       " '2023 00 03',\n",
       " '2023 00 04',\n",
       " '2023 00 05',\n",
       " '2023 00 06',\n",
       " '2023 00 07',\n",
       " '2023 00 08',\n",
       " '2023 00 09',\n",
       " '2023 00 10',\n",
       " '2023 00 11']"
      ]
     },
     "execution_count": 126,
     "metadata": {},
     "output_type": "execute_result"
    }
   ],
   "source": [
    "datetime"
   ]
  },
  {
   "cell_type": "code",
   "execution_count": null,
   "metadata": {},
   "outputs": [],
   "source": []
  },
  {
   "cell_type": "code",
   "execution_count": 123,
   "metadata": {},
   "outputs": [
    {
     "data": {
      "text/plain": [
       "[Timestamp('2023-01-14 00:00:00'),\n",
       " Timestamp('2023-01-15 00:00:00'),\n",
       " Timestamp('2023-01-16 00:00:00'),\n",
       " Timestamp('2023-01-17 00:00:00'),\n",
       " Timestamp('2023-01-18 00:00:00'),\n",
       " Timestamp('2023-01-19 00:00:00'),\n",
       " Timestamp('2023-01-20 00:00:00'),\n",
       " Timestamp('2023-01-21 00:00:00'),\n",
       " Timestamp('2023-01-22 00:00:00'),\n",
       " Timestamp('2023-01-23 00:00:00'),\n",
       " Timestamp('2023-01-24 00:00:00'),\n",
       " Timestamp('2023-01-25 00:00:00'),\n",
       " Timestamp('2023-01-26 00:00:00'),\n",
       " Timestamp('2023-01-27 00:00:00'),\n",
       " Timestamp('2023-01-28 00:00:00'),\n",
       " Timestamp('2023-01-29 00:00:00'),\n",
       " Timestamp('2023-01-30 00:00:00'),\n",
       " Timestamp('2023-01-31 00:00:00'),\n",
       " Timestamp('2023-02-01 00:00:00'),\n",
       " Timestamp('2023-02-02 00:00:00'),\n",
       " Timestamp('2023-02-03 00:00:00'),\n",
       " Timestamp('2023-02-04 00:00:00'),\n",
       " Timestamp('2023-02-05 00:00:00'),\n",
       " Timestamp('2023-02-06 00:00:00'),\n",
       " Timestamp('2023-02-07 00:00:00'),\n",
       " Timestamp('2023-02-08 00:00:00'),\n",
       " Timestamp('2023-02-09 00:00:00'),\n",
       " Timestamp('2023-02-10 00:00:00'),\n",
       " Timestamp('2023-02-11 00:00:00')]"
      ]
     },
     "execution_count": 123,
     "metadata": {},
     "output_type": "execute_result"
    }
   ],
   "source": []
  },
  {
   "cell_type": "code",
   "execution_count": null,
   "metadata": {},
   "outputs": [],
   "source": []
  },
  {
   "cell_type": "code",
   "execution_count": null,
   "metadata": {},
   "outputs": [],
   "source": []
  },
  {
   "cell_type": "code",
   "execution_count": null,
   "metadata": {},
   "outputs": [],
   "source": []
  },
  {
   "cell_type": "code",
   "execution_count": null,
   "metadata": {},
   "outputs": [],
   "source": []
  },
  {
   "cell_type": "code",
   "execution_count": null,
   "metadata": {},
   "outputs": [],
   "source": []
  },
  {
   "cell_type": "code",
   "execution_count": null,
   "metadata": {},
   "outputs": [],
   "source": []
  },
  {
   "cell_type": "code",
   "execution_count": 110,
   "metadata": {},
   "outputs": [],
   "source": [
    "import openpyxl, io\n",
    "\n",
    "# Create an in-memory bytes buffer, which is a file-like object\n",
    "buffer = io.BytesIO()\n",
    "\n",
    "# Create a workbook, do the shit you gotta do\n",
    "wb = openpyxl.Workbook('../data/allocation.xlsx')\n",
    "\n",
    "# Save the workbook to the buffer, as if it were a file on disk opened for writing bytes\n",
    "wb.save(buffer)\n",
    "\n",
    "# Get all the bytes in the buffer.\n",
    "# It's functionally the same as buffer.seek(0) then buffer.read()\n",
    "a = buffer.getvalue()"
   ]
  },
  {
   "cell_type": "code",
   "execution_count": 113,
   "metadata": {},
   "outputs": [],
   "source": [
    "with open('tmp.xlsx', 'wb') as f:\n",
    "    f.write(a)"
   ]
  },
  {
   "cell_type": "code",
   "execution_count": 117,
   "metadata": {},
   "outputs": [
    {
     "data": {
      "text/plain": [
       "'20'"
      ]
     },
     "execution_count": 117,
     "metadata": {},
     "output_type": "execute_result"
    }
   ],
   "source": [
    "import re \n",
    "\n",
    "re.findall(r'\\d+', 'Sea(20 days)')[0]"
   ]
  },
  {
   "cell_type": "code",
   "execution_count": 162,
   "metadata": {},
   "outputs": [
    {
     "data": {
      "text/plain": [
       "[nan,\n",
       " -74.85714285714289,\n",
       " -74.85714285714289,\n",
       " -74.85714285714289,\n",
       " -74.85714285714289,\n",
       " -74.85714285714286,\n",
       " -74.85714285714286,\n",
       " -74.85714285714286,\n",
       " -66.57142857142857,\n",
       " -9.428571428571288,\n",
       " 0.0,\n",
       " 1665.4285714285713,\n",
       " -66.57142857142867,\n",
       " -66.57142857142867,\n",
       " -66.57142857142867,\n",
       " -77.28571428571422,\n",
       " -77.28571428571422,\n",
       " -77.28571428571422,\n",
       " -77.28571428571422,\n",
       " -77.28571428571422,\n",
       " -77.28571428571433,\n",
       " -77.28571428571433,\n",
       " -69.0,\n",
       " -69.0,\n",
       " -69.0,\n",
       " -69.0,\n",
       " -69.0,\n",
       " -69.0,\n",
       " -69.0]"
      ]
     },
     "execution_count": 162,
     "metadata": {},
     "output_type": "execute_result"
    }
   ],
   "source": [
    "df_allocation_selected['stock'].diff().to_list()"
   ]
  },
  {
   "cell_type": "code",
   "execution_count": null,
   "metadata": {},
   "outputs": [],
   "source": []
  },
  {
   "cell_type": "code",
   "execution_count": 170,
   "metadata": {},
   "outputs": [
    {
     "data": {
      "text/plain": [
       "Index(['sku_name', 'channel', 'date', 'week', 'stock_in', 'stock_from',\n",
       "       'stock', 'sales_potential_weekly', 'sales_potential_daily', 'sales',\n",
       "       'safety_stock', 'alert', 'status'],\n",
       "      dtype='object')"
      ]
     },
     "execution_count": 170,
     "metadata": {},
     "output_type": "execute_result"
    }
   ],
   "source": [
    "df_allocation_selected.columns"
   ]
  },
  {
   "cell_type": "code",
   "execution_count": 255,
   "metadata": {},
   "outputs": [],
   "source": [
    "x = '2023-01-20'"
   ]
  },
  {
   "cell_type": "code",
   "execution_count": 259,
   "metadata": {},
   "outputs": [
    {
     "data": {
      "application/vnd.plotly.v1+json": {
       "config": {
        "plotlyServerURL": "https://plot.ly"
       },
       "data": [
        {
         "connector": {
          "line": {
           "color": "rgb(63, 63, 63)"
          }
         },
         "increasing": {
          "marker": {
           "color": "#F7D060"
          }
         },
         "name": "20",
         "orientation": "v",
         "textposition": "outside",
         "type": "waterfall",
         "x": [
          "2023-01-14T00:00:00",
          "2023-01-15T00:00:00",
          "2023-01-16T00:00:00",
          "2023-01-17T00:00:00",
          "2023-01-18T00:00:00",
          "2023-01-19T00:00:00",
          "2023-01-20T00:00:00",
          "2023-01-21T00:00:00",
          "2023-01-22T00:00:00",
          "2023-01-23T00:00:00",
          "2023-01-24T00:00:00",
          "2023-01-25T00:00:00",
          "2023-01-26T00:00:00",
          "2023-01-27T00:00:00",
          "2023-01-28T00:00:00",
          "2023-01-29T00:00:00",
          "2023-01-30T00:00:00",
          "2023-01-31T00:00:00",
          "2023-02-01T00:00:00",
          "2023-02-02T00:00:00",
          "2023-02-03T00:00:00",
          "2023-02-04T00:00:00",
          "2023-02-05T00:00:00",
          "2023-02-06T00:00:00",
          "2023-02-07T00:00:00",
          "2023-02-08T00:00:00",
          "2023-02-09T00:00:00",
          "2023-02-10T00:00:00",
          "2023-02-11T00:00:00"
         ],
         "y": [
          800,
          -101.71428571428567,
          -101.71428571428567,
          -101.71428571428572,
          -101.71428571428572,
          -101.71428571428572,
          937.2857142857142,
          -101.71428571428578,
          -107,
          -107,
          -107,
          1428,
          -107,
          -107,
          -107,
          -103.57142857142867,
          -103.57142857142867,
          -103.57142857142867,
          -103.57142857142867,
          -103.57142857142867,
          -103.57142857142867,
          -103.57142857142867,
          -104.14285714285711,
          -104.14285714285711,
          -104.14285714285711,
          -104.14285714285711,
          -104.14285714285711,
          -104.14285714285711,
          -104.14285714285711
         ]
        }
       ],
       "layout": {
        "annotations": [
         {
          "align": "left",
          "font": {
           "color": "#E99497"
          },
          "showarrow": false,
          "text": "Safety<br>Stock<br>Level",
          "x": 1,
          "xanchor": "left",
          "xref": "paper",
          "y": 1042,
          "yref": "y"
         },
         {
          "align": "center",
          "arrowhead": 2,
          "showarrow": true,
          "text": "current<br>stock",
          "x": "2023-01-14",
          "y": 911.7
         },
         {
          "align": "center",
          "arrowhead": 2,
          "showarrow": true,
          "text": "hub",
          "x": "2023-01-20",
          "y": 1340.4142857142858
         },
         {
          "align": "center",
          "arrowhead": 2,
          "showarrow": true,
          "text": "manufacture",
          "x": "2023-01-25",
          "y": 2345.7
         }
        ],
        "height": 400,
        "margin": {
         "b": 0,
         "l": 0,
         "r": 0,
         "t": 0
        },
        "shapes": [
         {
          "line": {
           "color": "#E99497",
           "dash": "dot",
           "width": 1
          },
          "type": "line",
          "x0": 0,
          "x1": 1,
          "xref": "x domain",
          "y0": 1042,
          "y1": 1042,
          "yref": "y"
         },
         {
          "fillcolor": "LightSkyBlue",
          "line": {
           "color": "RoyalBlue",
           "width": 2
          },
          "type": "rect",
          "x0": "2023-01-20",
          "x1": "2023-01-20",
          "y0": 0,
          "y1": 2680.7999999999997
         }
        ],
        "showlegend": false,
        "template": {
         "data": {
          "bar": [
           {
            "error_x": {
             "color": "rgb(36,36,36)"
            },
            "error_y": {
             "color": "rgb(36,36,36)"
            },
            "marker": {
             "line": {
              "color": "white",
              "width": 0.5
             },
             "pattern": {
              "fillmode": "overlay",
              "size": 10,
              "solidity": 0.2
             }
            },
            "type": "bar"
           }
          ],
          "barpolar": [
           {
            "marker": {
             "line": {
              "color": "white",
              "width": 0.5
             },
             "pattern": {
              "fillmode": "overlay",
              "size": 10,
              "solidity": 0.2
             }
            },
            "type": "barpolar"
           }
          ],
          "carpet": [
           {
            "aaxis": {
             "endlinecolor": "rgb(36,36,36)",
             "gridcolor": "white",
             "linecolor": "white",
             "minorgridcolor": "white",
             "startlinecolor": "rgb(36,36,36)"
            },
            "baxis": {
             "endlinecolor": "rgb(36,36,36)",
             "gridcolor": "white",
             "linecolor": "white",
             "minorgridcolor": "white",
             "startlinecolor": "rgb(36,36,36)"
            },
            "type": "carpet"
           }
          ],
          "choropleth": [
           {
            "colorbar": {
             "outlinewidth": 1,
             "tickcolor": "rgb(36,36,36)",
             "ticks": "outside"
            },
            "type": "choropleth"
           }
          ],
          "contour": [
           {
            "colorbar": {
             "outlinewidth": 1,
             "tickcolor": "rgb(36,36,36)",
             "ticks": "outside"
            },
            "colorscale": [
             [
              0,
              "#440154"
             ],
             [
              0.1111111111111111,
              "#482878"
             ],
             [
              0.2222222222222222,
              "#3e4989"
             ],
             [
              0.3333333333333333,
              "#31688e"
             ],
             [
              0.4444444444444444,
              "#26828e"
             ],
             [
              0.5555555555555556,
              "#1f9e89"
             ],
             [
              0.6666666666666666,
              "#35b779"
             ],
             [
              0.7777777777777778,
              "#6ece58"
             ],
             [
              0.8888888888888888,
              "#b5de2b"
             ],
             [
              1,
              "#fde725"
             ]
            ],
            "type": "contour"
           }
          ],
          "contourcarpet": [
           {
            "colorbar": {
             "outlinewidth": 1,
             "tickcolor": "rgb(36,36,36)",
             "ticks": "outside"
            },
            "type": "contourcarpet"
           }
          ],
          "heatmap": [
           {
            "colorbar": {
             "outlinewidth": 1,
             "tickcolor": "rgb(36,36,36)",
             "ticks": "outside"
            },
            "colorscale": [
             [
              0,
              "#440154"
             ],
             [
              0.1111111111111111,
              "#482878"
             ],
             [
              0.2222222222222222,
              "#3e4989"
             ],
             [
              0.3333333333333333,
              "#31688e"
             ],
             [
              0.4444444444444444,
              "#26828e"
             ],
             [
              0.5555555555555556,
              "#1f9e89"
             ],
             [
              0.6666666666666666,
              "#35b779"
             ],
             [
              0.7777777777777778,
              "#6ece58"
             ],
             [
              0.8888888888888888,
              "#b5de2b"
             ],
             [
              1,
              "#fde725"
             ]
            ],
            "type": "heatmap"
           }
          ],
          "heatmapgl": [
           {
            "colorbar": {
             "outlinewidth": 1,
             "tickcolor": "rgb(36,36,36)",
             "ticks": "outside"
            },
            "colorscale": [
             [
              0,
              "#440154"
             ],
             [
              0.1111111111111111,
              "#482878"
             ],
             [
              0.2222222222222222,
              "#3e4989"
             ],
             [
              0.3333333333333333,
              "#31688e"
             ],
             [
              0.4444444444444444,
              "#26828e"
             ],
             [
              0.5555555555555556,
              "#1f9e89"
             ],
             [
              0.6666666666666666,
              "#35b779"
             ],
             [
              0.7777777777777778,
              "#6ece58"
             ],
             [
              0.8888888888888888,
              "#b5de2b"
             ],
             [
              1,
              "#fde725"
             ]
            ],
            "type": "heatmapgl"
           }
          ],
          "histogram": [
           {
            "marker": {
             "line": {
              "color": "white",
              "width": 0.6
             }
            },
            "type": "histogram"
           }
          ],
          "histogram2d": [
           {
            "colorbar": {
             "outlinewidth": 1,
             "tickcolor": "rgb(36,36,36)",
             "ticks": "outside"
            },
            "colorscale": [
             [
              0,
              "#440154"
             ],
             [
              0.1111111111111111,
              "#482878"
             ],
             [
              0.2222222222222222,
              "#3e4989"
             ],
             [
              0.3333333333333333,
              "#31688e"
             ],
             [
              0.4444444444444444,
              "#26828e"
             ],
             [
              0.5555555555555556,
              "#1f9e89"
             ],
             [
              0.6666666666666666,
              "#35b779"
             ],
             [
              0.7777777777777778,
              "#6ece58"
             ],
             [
              0.8888888888888888,
              "#b5de2b"
             ],
             [
              1,
              "#fde725"
             ]
            ],
            "type": "histogram2d"
           }
          ],
          "histogram2dcontour": [
           {
            "colorbar": {
             "outlinewidth": 1,
             "tickcolor": "rgb(36,36,36)",
             "ticks": "outside"
            },
            "colorscale": [
             [
              0,
              "#440154"
             ],
             [
              0.1111111111111111,
              "#482878"
             ],
             [
              0.2222222222222222,
              "#3e4989"
             ],
             [
              0.3333333333333333,
              "#31688e"
             ],
             [
              0.4444444444444444,
              "#26828e"
             ],
             [
              0.5555555555555556,
              "#1f9e89"
             ],
             [
              0.6666666666666666,
              "#35b779"
             ],
             [
              0.7777777777777778,
              "#6ece58"
             ],
             [
              0.8888888888888888,
              "#b5de2b"
             ],
             [
              1,
              "#fde725"
             ]
            ],
            "type": "histogram2dcontour"
           }
          ],
          "mesh3d": [
           {
            "colorbar": {
             "outlinewidth": 1,
             "tickcolor": "rgb(36,36,36)",
             "ticks": "outside"
            },
            "type": "mesh3d"
           }
          ],
          "parcoords": [
           {
            "line": {
             "colorbar": {
              "outlinewidth": 1,
              "tickcolor": "rgb(36,36,36)",
              "ticks": "outside"
             }
            },
            "type": "parcoords"
           }
          ],
          "pie": [
           {
            "automargin": true,
            "type": "pie"
           }
          ],
          "scatter": [
           {
            "fillpattern": {
             "fillmode": "overlay",
             "size": 10,
             "solidity": 0.2
            },
            "type": "scatter"
           }
          ],
          "scatter3d": [
           {
            "line": {
             "colorbar": {
              "outlinewidth": 1,
              "tickcolor": "rgb(36,36,36)",
              "ticks": "outside"
             }
            },
            "marker": {
             "colorbar": {
              "outlinewidth": 1,
              "tickcolor": "rgb(36,36,36)",
              "ticks": "outside"
             }
            },
            "type": "scatter3d"
           }
          ],
          "scattercarpet": [
           {
            "marker": {
             "colorbar": {
              "outlinewidth": 1,
              "tickcolor": "rgb(36,36,36)",
              "ticks": "outside"
             }
            },
            "type": "scattercarpet"
           }
          ],
          "scattergeo": [
           {
            "marker": {
             "colorbar": {
              "outlinewidth": 1,
              "tickcolor": "rgb(36,36,36)",
              "ticks": "outside"
             }
            },
            "type": "scattergeo"
           }
          ],
          "scattergl": [
           {
            "marker": {
             "colorbar": {
              "outlinewidth": 1,
              "tickcolor": "rgb(36,36,36)",
              "ticks": "outside"
             }
            },
            "type": "scattergl"
           }
          ],
          "scattermapbox": [
           {
            "marker": {
             "colorbar": {
              "outlinewidth": 1,
              "tickcolor": "rgb(36,36,36)",
              "ticks": "outside"
             }
            },
            "type": "scattermapbox"
           }
          ],
          "scatterpolar": [
           {
            "marker": {
             "colorbar": {
              "outlinewidth": 1,
              "tickcolor": "rgb(36,36,36)",
              "ticks": "outside"
             }
            },
            "type": "scatterpolar"
           }
          ],
          "scatterpolargl": [
           {
            "marker": {
             "colorbar": {
              "outlinewidth": 1,
              "tickcolor": "rgb(36,36,36)",
              "ticks": "outside"
             }
            },
            "type": "scatterpolargl"
           }
          ],
          "scatterternary": [
           {
            "marker": {
             "colorbar": {
              "outlinewidth": 1,
              "tickcolor": "rgb(36,36,36)",
              "ticks": "outside"
             }
            },
            "type": "scatterternary"
           }
          ],
          "surface": [
           {
            "colorbar": {
             "outlinewidth": 1,
             "tickcolor": "rgb(36,36,36)",
             "ticks": "outside"
            },
            "colorscale": [
             [
              0,
              "#440154"
             ],
             [
              0.1111111111111111,
              "#482878"
             ],
             [
              0.2222222222222222,
              "#3e4989"
             ],
             [
              0.3333333333333333,
              "#31688e"
             ],
             [
              0.4444444444444444,
              "#26828e"
             ],
             [
              0.5555555555555556,
              "#1f9e89"
             ],
             [
              0.6666666666666666,
              "#35b779"
             ],
             [
              0.7777777777777778,
              "#6ece58"
             ],
             [
              0.8888888888888888,
              "#b5de2b"
             ],
             [
              1,
              "#fde725"
             ]
            ],
            "type": "surface"
           }
          ],
          "table": [
           {
            "cells": {
             "fill": {
              "color": "rgb(237,237,237)"
             },
             "line": {
              "color": "white"
             }
            },
            "header": {
             "fill": {
              "color": "rgb(217,217,217)"
             },
             "line": {
              "color": "white"
             }
            },
            "type": "table"
           }
          ]
         },
         "layout": {
          "annotationdefaults": {
           "arrowhead": 0,
           "arrowwidth": 1
          },
          "autotypenumbers": "strict",
          "coloraxis": {
           "colorbar": {
            "outlinewidth": 1,
            "tickcolor": "rgb(36,36,36)",
            "ticks": "outside"
           }
          },
          "colorscale": {
           "diverging": [
            [
             0,
             "rgb(103,0,31)"
            ],
            [
             0.1,
             "rgb(178,24,43)"
            ],
            [
             0.2,
             "rgb(214,96,77)"
            ],
            [
             0.3,
             "rgb(244,165,130)"
            ],
            [
             0.4,
             "rgb(253,219,199)"
            ],
            [
             0.5,
             "rgb(247,247,247)"
            ],
            [
             0.6,
             "rgb(209,229,240)"
            ],
            [
             0.7,
             "rgb(146,197,222)"
            ],
            [
             0.8,
             "rgb(67,147,195)"
            ],
            [
             0.9,
             "rgb(33,102,172)"
            ],
            [
             1,
             "rgb(5,48,97)"
            ]
           ],
           "sequential": [
            [
             0,
             "#440154"
            ],
            [
             0.1111111111111111,
             "#482878"
            ],
            [
             0.2222222222222222,
             "#3e4989"
            ],
            [
             0.3333333333333333,
             "#31688e"
            ],
            [
             0.4444444444444444,
             "#26828e"
            ],
            [
             0.5555555555555556,
             "#1f9e89"
            ],
            [
             0.6666666666666666,
             "#35b779"
            ],
            [
             0.7777777777777778,
             "#6ece58"
            ],
            [
             0.8888888888888888,
             "#b5de2b"
            ],
            [
             1,
             "#fde725"
            ]
           ],
           "sequentialminus": [
            [
             0,
             "#440154"
            ],
            [
             0.1111111111111111,
             "#482878"
            ],
            [
             0.2222222222222222,
             "#3e4989"
            ],
            [
             0.3333333333333333,
             "#31688e"
            ],
            [
             0.4444444444444444,
             "#26828e"
            ],
            [
             0.5555555555555556,
             "#1f9e89"
            ],
            [
             0.6666666666666666,
             "#35b779"
            ],
            [
             0.7777777777777778,
             "#6ece58"
            ],
            [
             0.8888888888888888,
             "#b5de2b"
            ],
            [
             1,
             "#fde725"
            ]
           ]
          },
          "colorway": [
           "#1F77B4",
           "#FF7F0E",
           "#2CA02C",
           "#D62728",
           "#9467BD",
           "#8C564B",
           "#E377C2",
           "#7F7F7F",
           "#BCBD22",
           "#17BECF"
          ],
          "font": {
           "color": "rgb(36,36,36)"
          },
          "geo": {
           "bgcolor": "white",
           "lakecolor": "white",
           "landcolor": "white",
           "showlakes": true,
           "showland": true,
           "subunitcolor": "white"
          },
          "hoverlabel": {
           "align": "left"
          },
          "hovermode": "closest",
          "mapbox": {
           "style": "light"
          },
          "paper_bgcolor": "white",
          "plot_bgcolor": "white",
          "polar": {
           "angularaxis": {
            "gridcolor": "rgb(232,232,232)",
            "linecolor": "rgb(36,36,36)",
            "showgrid": false,
            "showline": true,
            "ticks": "outside"
           },
           "bgcolor": "white",
           "radialaxis": {
            "gridcolor": "rgb(232,232,232)",
            "linecolor": "rgb(36,36,36)",
            "showgrid": false,
            "showline": true,
            "ticks": "outside"
           }
          },
          "scene": {
           "xaxis": {
            "backgroundcolor": "white",
            "gridcolor": "rgb(232,232,232)",
            "gridwidth": 2,
            "linecolor": "rgb(36,36,36)",
            "showbackground": true,
            "showgrid": false,
            "showline": true,
            "ticks": "outside",
            "zeroline": false,
            "zerolinecolor": "rgb(36,36,36)"
           },
           "yaxis": {
            "backgroundcolor": "white",
            "gridcolor": "rgb(232,232,232)",
            "gridwidth": 2,
            "linecolor": "rgb(36,36,36)",
            "showbackground": true,
            "showgrid": false,
            "showline": true,
            "ticks": "outside",
            "zeroline": false,
            "zerolinecolor": "rgb(36,36,36)"
           },
           "zaxis": {
            "backgroundcolor": "white",
            "gridcolor": "rgb(232,232,232)",
            "gridwidth": 2,
            "linecolor": "rgb(36,36,36)",
            "showbackground": true,
            "showgrid": false,
            "showline": true,
            "ticks": "outside",
            "zeroline": false,
            "zerolinecolor": "rgb(36,36,36)"
           }
          },
          "shapedefaults": {
           "fillcolor": "black",
           "line": {
            "width": 0
           },
           "opacity": 0.3
          },
          "ternary": {
           "aaxis": {
            "gridcolor": "rgb(232,232,232)",
            "linecolor": "rgb(36,36,36)",
            "showgrid": false,
            "showline": true,
            "ticks": "outside"
           },
           "baxis": {
            "gridcolor": "rgb(232,232,232)",
            "linecolor": "rgb(36,36,36)",
            "showgrid": false,
            "showline": true,
            "ticks": "outside"
           },
           "bgcolor": "white",
           "caxis": {
            "gridcolor": "rgb(232,232,232)",
            "linecolor": "rgb(36,36,36)",
            "showgrid": false,
            "showline": true,
            "ticks": "outside"
           }
          },
          "title": {
           "x": 0.05
          },
          "xaxis": {
           "automargin": true,
           "gridcolor": "rgb(232,232,232)",
           "linecolor": "rgb(36,36,36)",
           "showgrid": false,
           "showline": true,
           "ticks": "outside",
           "title": {
            "standoff": 15
           },
           "zeroline": false,
           "zerolinecolor": "rgb(36,36,36)"
          },
          "yaxis": {
           "automargin": true,
           "gridcolor": "rgb(232,232,232)",
           "linecolor": "rgb(36,36,36)",
           "showgrid": false,
           "showline": true,
           "ticks": "outside",
           "title": {
            "standoff": 15
           },
           "zeroline": false,
           "zerolinecolor": "rgb(36,36,36)"
          }
         }
        },
        "xaxis": {
         "mirror": true
        },
        "yaxis": {
         "mirror": true,
         "range": [
          0,
          2680.7999999999997
         ],
         "title": {
          "text": "stock"
         }
        }
       }
      }
     },
     "metadata": {},
     "output_type": "display_data"
    }
   ],
   "source": [
    "import plotly.graph_objects as go \n",
    "\n",
    "\n",
    "\n",
    "fig = go.Figure()\n",
    "\n",
    "fig.add_hline(y = df_allocation_selected['safety_stock'].values[0], line = dict(color = '#E99497', width = 1, dash = 'dot'))\n",
    "fig.add_trace(\n",
    "    go.Waterfall(\n",
    "    name = \"20\", orientation = \"v\",\n",
    "    x = df_allocation_selected['date'],\n",
    "    textposition = \"outside\",\n",
    "    # text = df_allocation_selected['status'],\n",
    "    # decreasing = {\"marker\":{\"color\":\"#F7D060\"}},\n",
    "    increasing = {\"marker\":{\"color\":\"#F7D060\"}},\n",
    "    y = [df_allocation_selected['stock'].values[0]] + df_allocation_selected['stock'].diff().tolist()[1:],\n",
    "    connector = {\"line\":{\"color\":\"rgb(63, 63, 63)\"}},\n",
    "))\n",
    "\n",
    "fig.add_annotation(\n",
    "    x = 1, y = df_allocation_selected['safety_stock'].values[0],\n",
    "    xref='paper', yref='y',\n",
    "    xanchor='left',\n",
    "    align='left',\n",
    "    text= 'Safety<br>Stock<br>Level',\n",
    "    showarrow=False,\n",
    "    font = {'color': '#E99497'}\n",
    ")\n",
    "\n",
    "max_stock = df_allocation_selected['stock'].max()\n",
    "for i, d in df_allocation_selected.reset_index().iterrows():\n",
    "    if d['status'] not in ['risk', 'full', 'near stockout'] or i == 0:\n",
    "        fig.add_annotation(\n",
    "            x = d['date'].strftime(\"%Y-%m-%d\"), y = d['stock'] + max_stock*0.05,\n",
    "            # xanchor='',\n",
    "            align='center',\n",
    "            text= 'current<br>stock'if i==0 else d['status'],\n",
    "            showarrow=True,arrowhead = 2\n",
    "        )\n",
    "\n",
    "from datetime import timedelta\n",
    "\n",
    "\n",
    "fig.add_shape(type=\"rect\",\n",
    "    x0=x, y0=0, x1=x, y1=max_stock * 1.2,\n",
    "    line=dict(\n",
    "        color=\"RoyalBlue\",\n",
    "        width=2,\n",
    "    ),\n",
    "    fillcolor=\"LightSkyBlue\",\n",
    ")\n",
    "\n",
    "\n",
    "fig.update_layout(template = 'simple_white',showlegend = False, height = 400, margin = {'t':0, 'l':0,'b':0, 'r':0})\n",
    "fig.update_xaxes(mirror = True,)\n",
    "fig.update_yaxes(mirror = True, title = 'stock', range = [0, max_stock * 1.2])\n",
    "\n",
    "fig.show()\n"
   ]
  },
  {
   "cell_type": "code",
   "execution_count": null,
   "metadata": {},
   "outputs": [],
   "source": []
  },
  {
   "cell_type": "code",
   "execution_count": null,
   "metadata": {},
   "outputs": [],
   "source": []
  },
  {
   "cell_type": "code",
   "execution_count": null,
   "metadata": {},
   "outputs": [],
   "source": []
  },
  {
   "cell_type": "code",
   "execution_count": null,
   "metadata": {},
   "outputs": [],
   "source": []
  },
  {
   "cell_type": "code",
   "execution_count": null,
   "metadata": {},
   "outputs": [],
   "source": []
  },
  {
   "cell_type": "code",
   "execution_count": null,
   "metadata": {},
   "outputs": [],
   "source": []
  },
  {
   "cell_type": "code",
   "execution_count": null,
   "metadata": {},
   "outputs": [],
   "source": []
  },
  {
   "cell_type": "code",
   "execution_count": null,
   "metadata": {},
   "outputs": [],
   "source": []
  },
  {
   "cell_type": "code",
   "execution_count": null,
   "metadata": {},
   "outputs": [],
   "source": []
  },
  {
   "cell_type": "code",
   "execution_count": null,
   "metadata": {},
   "outputs": [],
   "source": []
  },
  {
   "cell_type": "code",
   "execution_count": null,
   "metadata": {},
   "outputs": [],
   "source": []
  },
  {
   "cell_type": "code",
   "execution_count": null,
   "metadata": {},
   "outputs": [],
   "source": []
  },
  {
   "cell_type": "code",
   "execution_count": null,
   "metadata": {},
   "outputs": [],
   "source": []
  },
  {
   "cell_type": "code",
   "execution_count": null,
   "metadata": {},
   "outputs": [],
   "source": []
  },
  {
   "cell_type": "code",
   "execution_count": null,
   "metadata": {},
   "outputs": [],
   "source": []
  },
  {
   "cell_type": "code",
   "execution_count": null,
   "metadata": {},
   "outputs": [],
   "source": []
  },
  {
   "cell_type": "code",
   "execution_count": null,
   "metadata": {},
   "outputs": [],
   "source": []
  },
  {
   "cell_type": "code",
   "execution_count": null,
   "metadata": {},
   "outputs": [],
   "source": []
  },
  {
   "cell_type": "code",
   "execution_count": null,
   "metadata": {},
   "outputs": [],
   "source": []
  },
  {
   "cell_type": "code",
   "execution_count": null,
   "metadata": {},
   "outputs": [],
   "source": []
  },
  {
   "cell_type": "code",
   "execution_count": null,
   "metadata": {},
   "outputs": [],
   "source": []
  },
  {
   "cell_type": "code",
   "execution_count": null,
   "metadata": {},
   "outputs": [],
   "source": []
  },
  {
   "cell_type": "code",
   "execution_count": null,
   "metadata": {},
   "outputs": [],
   "source": []
  },
  {
   "cell_type": "code",
   "execution_count": null,
   "metadata": {},
   "outputs": [],
   "source": []
  },
  {
   "cell_type": "code",
   "execution_count": null,
   "metadata": {},
   "outputs": [],
   "source": []
  },
  {
   "cell_type": "code",
   "execution_count": null,
   "metadata": {},
   "outputs": [],
   "source": []
  },
  {
   "cell_type": "code",
   "execution_count": null,
   "metadata": {},
   "outputs": [],
   "source": []
  },
  {
   "cell_type": "code",
   "execution_count": 214,
   "metadata": {},
   "outputs": [
    {
     "data": {
      "text/plain": [
       "1674518400000000000"
      ]
     },
     "execution_count": 214,
     "metadata": {},
     "output_type": "execute_result"
    }
   ],
   "source": []
  },
  {
   "cell_type": "code",
   "execution_count": null,
   "metadata": {},
   "outputs": [],
   "source": []
  },
  {
   "cell_type": "code",
   "execution_count": null,
   "metadata": {},
   "outputs": [],
   "source": []
  },
  {
   "cell_type": "code",
   "execution_count": null,
   "metadata": {},
   "outputs": [],
   "source": []
  },
  {
   "cell_type": "code",
   "execution_count": null,
   "metadata": {},
   "outputs": [],
   "source": []
  },
  {
   "cell_type": "code",
   "execution_count": null,
   "metadata": {},
   "outputs": [],
   "source": []
  },
  {
   "cell_type": "code",
   "execution_count": null,
   "metadata": {},
   "outputs": [],
   "source": []
  },
  {
   "cell_type": "code",
   "execution_count": null,
   "metadata": {},
   "outputs": [],
   "source": []
  },
  {
   "cell_type": "code",
   "execution_count": null,
   "metadata": {},
   "outputs": [],
   "source": []
  },
  {
   "cell_type": "code",
   "execution_count": 168,
   "metadata": {},
   "outputs": [
    {
     "data": {
      "text/plain": [
       "(Waterfall({\n",
       "     'connector': {'line': {'color': 'rgb(63, 63, 63)'}},\n",
       "     'name': '20',\n",
       "     'orientation': 'v',\n",
       "     'textposition': 'outside',\n",
       "     'x': array([datetime.datetime(2023, 1, 14, 0, 0),\n",
       "                 datetime.datetime(2023, 1, 15, 0, 0),\n",
       "                 datetime.datetime(2023, 1, 16, 0, 0),\n",
       "                 datetime.datetime(2023, 1, 17, 0, 0),\n",
       "                 datetime.datetime(2023, 1, 18, 0, 0),\n",
       "                 datetime.datetime(2023, 1, 19, 0, 0),\n",
       "                 datetime.datetime(2023, 1, 20, 0, 0),\n",
       "                 datetime.datetime(2023, 1, 21, 0, 0),\n",
       "                 datetime.datetime(2023, 1, 22, 0, 0),\n",
       "                 datetime.datetime(2023, 1, 23, 0, 0),\n",
       "                 datetime.datetime(2023, 1, 24, 0, 0),\n",
       "                 datetime.datetime(2023, 1, 25, 0, 0),\n",
       "                 datetime.datetime(2023, 1, 26, 0, 0),\n",
       "                 datetime.datetime(2023, 1, 27, 0, 0),\n",
       "                 datetime.datetime(2023, 1, 28, 0, 0),\n",
       "                 datetime.datetime(2023, 1, 29, 0, 0),\n",
       "                 datetime.datetime(2023, 1, 30, 0, 0),\n",
       "                 datetime.datetime(2023, 1, 31, 0, 0),\n",
       "                 datetime.datetime(2023, 2, 1, 0, 0),\n",
       "                 datetime.datetime(2023, 2, 2, 0, 0),\n",
       "                 datetime.datetime(2023, 2, 3, 0, 0),\n",
       "                 datetime.datetime(2023, 2, 4, 0, 0),\n",
       "                 datetime.datetime(2023, 2, 5, 0, 0),\n",
       "                 datetime.datetime(2023, 2, 6, 0, 0),\n",
       "                 datetime.datetime(2023, 2, 7, 0, 0),\n",
       "                 datetime.datetime(2023, 2, 8, 0, 0),\n",
       "                 datetime.datetime(2023, 2, 9, 0, 0),\n",
       "                 datetime.datetime(2023, 2, 10, 0, 0),\n",
       "                 datetime.datetime(2023, 2, 11, 0, 0)], dtype=object),\n",
       "     'y': [600.0, -74.85714285714289, -74.85714285714289, -74.85714285714289,\n",
       "           -74.85714285714289, -74.85714285714286, -74.85714285714286,\n",
       "           -74.85714285714286, -66.57142857142857, -9.428571428571288, 0.0,\n",
       "           1665.4285714285713, -66.57142857142867, -66.57142857142867,\n",
       "           -66.57142857142867, -77.28571428571422, -77.28571428571422,\n",
       "           -77.28571428571422, -77.28571428571422, -77.28571428571422,\n",
       "           -77.28571428571433, -77.28571428571433, -69.0, -69.0, -69.0, -69.0,\n",
       "           -69.0, -69.0, -69.0]\n",
       " }),)"
      ]
     },
     "execution_count": 168,
     "metadata": {},
     "output_type": "execute_result"
    }
   ],
   "source": [
    "fig.data"
   ]
  },
  {
   "cell_type": "code",
   "execution_count": null,
   "metadata": {},
   "outputs": [],
   "source": []
  },
  {
   "cell_type": "code",
   "execution_count": null,
   "metadata": {},
   "outputs": [],
   "source": []
  },
  {
   "cell_type": "code",
   "execution_count": null,
   "metadata": {},
   "outputs": [],
   "source": []
  },
  {
   "cell_type": "code",
   "execution_count": null,
   "metadata": {},
   "outputs": [],
   "source": []
  },
  {
   "cell_type": "code",
   "execution_count": 235,
   "metadata": {},
   "outputs": [
    {
     "data": {
      "text/html": [
       "<div>\n",
       "<style scoped>\n",
       "    .dataframe tbody tr th:only-of-type {\n",
       "        vertical-align: middle;\n",
       "    }\n",
       "\n",
       "    .dataframe tbody tr th {\n",
       "        vertical-align: top;\n",
       "    }\n",
       "\n",
       "    .dataframe thead th {\n",
       "        text-align: right;\n",
       "    }\n",
       "</style>\n",
       "<table border=\"1\" class=\"dataframe\">\n",
       "  <thead>\n",
       "    <tr style=\"text-align: right;\">\n",
       "      <th></th>\n",
       "      <th>sku_name</th>\n",
       "      <th>channel</th>\n",
       "      <th>date</th>\n",
       "      <th>week</th>\n",
       "      <th>stock_in</th>\n",
       "      <th>stock_from</th>\n",
       "      <th>stock</th>\n",
       "      <th>sales_potential_weekly</th>\n",
       "      <th>sales_potential_daily</th>\n",
       "      <th>sales</th>\n",
       "      <th>safety_stock</th>\n",
       "      <th>alert</th>\n",
       "      <th>status</th>\n",
       "    </tr>\n",
       "  </thead>\n",
       "  <tbody>\n",
       "    <tr>\n",
       "      <th>0</th>\n",
       "      <td>A</td>\n",
       "      <td>channel 3</td>\n",
       "      <td>2023-01-14</td>\n",
       "      <td>0.0</td>\n",
       "      <td>0.0</td>\n",
       "      <td></td>\n",
       "      <td>800.000000</td>\n",
       "      <td>NaN</td>\n",
       "      <td>NaN</td>\n",
       "      <td>NaN</td>\n",
       "      <td>1042.0</td>\n",
       "      <td>1</td>\n",
       "      <td>risk</td>\n",
       "    </tr>\n",
       "    <tr>\n",
       "      <th>0</th>\n",
       "      <td>A</td>\n",
       "      <td>channel 3</td>\n",
       "      <td>2023-01-15</td>\n",
       "      <td>1.0</td>\n",
       "      <td>0.0</td>\n",
       "      <td></td>\n",
       "      <td>698.285714</td>\n",
       "      <td>712.0</td>\n",
       "      <td>101.714286</td>\n",
       "      <td>101.714286</td>\n",
       "      <td>1042.0</td>\n",
       "      <td>1</td>\n",
       "      <td>risk</td>\n",
       "    </tr>\n",
       "    <tr>\n",
       "      <th>1</th>\n",
       "      <td>A</td>\n",
       "      <td>channel 3</td>\n",
       "      <td>2023-01-16</td>\n",
       "      <td>1.0</td>\n",
       "      <td>0.0</td>\n",
       "      <td></td>\n",
       "      <td>596.571429</td>\n",
       "      <td>712.0</td>\n",
       "      <td>101.714286</td>\n",
       "      <td>101.714286</td>\n",
       "      <td>1042.0</td>\n",
       "      <td>1</td>\n",
       "      <td>risk</td>\n",
       "    </tr>\n",
       "    <tr>\n",
       "      <th>2</th>\n",
       "      <td>A</td>\n",
       "      <td>channel 3</td>\n",
       "      <td>2023-01-17</td>\n",
       "      <td>1.0</td>\n",
       "      <td>0.0</td>\n",
       "      <td></td>\n",
       "      <td>494.857143</td>\n",
       "      <td>712.0</td>\n",
       "      <td>101.714286</td>\n",
       "      <td>101.714286</td>\n",
       "      <td>1042.0</td>\n",
       "      <td>1</td>\n",
       "      <td>near stockout</td>\n",
       "    </tr>\n",
       "    <tr>\n",
       "      <th>3</th>\n",
       "      <td>A</td>\n",
       "      <td>channel 3</td>\n",
       "      <td>2023-01-18</td>\n",
       "      <td>1.0</td>\n",
       "      <td>0.0</td>\n",
       "      <td></td>\n",
       "      <td>393.142857</td>\n",
       "      <td>712.0</td>\n",
       "      <td>101.714286</td>\n",
       "      <td>101.714286</td>\n",
       "      <td>1042.0</td>\n",
       "      <td>1</td>\n",
       "      <td>near stockout</td>\n",
       "    </tr>\n",
       "    <tr>\n",
       "      <th>4</th>\n",
       "      <td>A</td>\n",
       "      <td>channel 3</td>\n",
       "      <td>2023-01-19</td>\n",
       "      <td>1.0</td>\n",
       "      <td>0.0</td>\n",
       "      <td></td>\n",
       "      <td>291.428571</td>\n",
       "      <td>712.0</td>\n",
       "      <td>101.714286</td>\n",
       "      <td>101.714286</td>\n",
       "      <td>1042.0</td>\n",
       "      <td>1</td>\n",
       "      <td>near stockout</td>\n",
       "    </tr>\n",
       "    <tr>\n",
       "      <th>5</th>\n",
       "      <td>A</td>\n",
       "      <td>channel 3</td>\n",
       "      <td>2023-01-20</td>\n",
       "      <td>1.0</td>\n",
       "      <td>1039.0</td>\n",
       "      <td>hub</td>\n",
       "      <td>1228.714286</td>\n",
       "      <td>712.0</td>\n",
       "      <td>101.714286</td>\n",
       "      <td>101.714286</td>\n",
       "      <td>1042.0</td>\n",
       "      <td>0</td>\n",
       "      <td>hub</td>\n",
       "    </tr>\n",
       "    <tr>\n",
       "      <th>6</th>\n",
       "      <td>A</td>\n",
       "      <td>channel 3</td>\n",
       "      <td>2023-01-21</td>\n",
       "      <td>1.0</td>\n",
       "      <td>0.0</td>\n",
       "      <td></td>\n",
       "      <td>1127.000000</td>\n",
       "      <td>712.0</td>\n",
       "      <td>101.714286</td>\n",
       "      <td>101.714286</td>\n",
       "      <td>1042.0</td>\n",
       "      <td>0</td>\n",
       "      <td>full</td>\n",
       "    </tr>\n",
       "    <tr>\n",
       "      <th>7</th>\n",
       "      <td>A</td>\n",
       "      <td>channel 3</td>\n",
       "      <td>2023-01-22</td>\n",
       "      <td>2.0</td>\n",
       "      <td>0.0</td>\n",
       "      <td></td>\n",
       "      <td>1020.000000</td>\n",
       "      <td>749.0</td>\n",
       "      <td>107.000000</td>\n",
       "      <td>107.000000</td>\n",
       "      <td>1042.0</td>\n",
       "      <td>1</td>\n",
       "      <td>risk</td>\n",
       "    </tr>\n",
       "    <tr>\n",
       "      <th>8</th>\n",
       "      <td>A</td>\n",
       "      <td>channel 3</td>\n",
       "      <td>2023-01-23</td>\n",
       "      <td>2.0</td>\n",
       "      <td>0.0</td>\n",
       "      <td></td>\n",
       "      <td>913.000000</td>\n",
       "      <td>749.0</td>\n",
       "      <td>107.000000</td>\n",
       "      <td>107.000000</td>\n",
       "      <td>1042.0</td>\n",
       "      <td>1</td>\n",
       "      <td>risk</td>\n",
       "    </tr>\n",
       "    <tr>\n",
       "      <th>9</th>\n",
       "      <td>A</td>\n",
       "      <td>channel 3</td>\n",
       "      <td>2023-01-24</td>\n",
       "      <td>2.0</td>\n",
       "      <td>0.0</td>\n",
       "      <td></td>\n",
       "      <td>806.000000</td>\n",
       "      <td>749.0</td>\n",
       "      <td>107.000000</td>\n",
       "      <td>107.000000</td>\n",
       "      <td>1042.0</td>\n",
       "      <td>1</td>\n",
       "      <td>risk</td>\n",
       "    </tr>\n",
       "    <tr>\n",
       "      <th>10</th>\n",
       "      <td>A</td>\n",
       "      <td>channel 3</td>\n",
       "      <td>2023-01-25</td>\n",
       "      <td>2.0</td>\n",
       "      <td>1535.0</td>\n",
       "      <td>manufacture</td>\n",
       "      <td>2234.000000</td>\n",
       "      <td>749.0</td>\n",
       "      <td>107.000000</td>\n",
       "      <td>107.000000</td>\n",
       "      <td>1042.0</td>\n",
       "      <td>0</td>\n",
       "      <td>manufacture</td>\n",
       "    </tr>\n",
       "    <tr>\n",
       "      <th>11</th>\n",
       "      <td>A</td>\n",
       "      <td>channel 3</td>\n",
       "      <td>2023-01-26</td>\n",
       "      <td>2.0</td>\n",
       "      <td>0.0</td>\n",
       "      <td></td>\n",
       "      <td>2127.000000</td>\n",
       "      <td>749.0</td>\n",
       "      <td>107.000000</td>\n",
       "      <td>107.000000</td>\n",
       "      <td>1042.0</td>\n",
       "      <td>0</td>\n",
       "      <td>full</td>\n",
       "    </tr>\n",
       "    <tr>\n",
       "      <th>12</th>\n",
       "      <td>A</td>\n",
       "      <td>channel 3</td>\n",
       "      <td>2023-01-27</td>\n",
       "      <td>2.0</td>\n",
       "      <td>0.0</td>\n",
       "      <td></td>\n",
       "      <td>2020.000000</td>\n",
       "      <td>749.0</td>\n",
       "      <td>107.000000</td>\n",
       "      <td>107.000000</td>\n",
       "      <td>1042.0</td>\n",
       "      <td>0</td>\n",
       "      <td>full</td>\n",
       "    </tr>\n",
       "    <tr>\n",
       "      <th>13</th>\n",
       "      <td>A</td>\n",
       "      <td>channel 3</td>\n",
       "      <td>2023-01-28</td>\n",
       "      <td>2.0</td>\n",
       "      <td>0.0</td>\n",
       "      <td></td>\n",
       "      <td>1913.000000</td>\n",
       "      <td>749.0</td>\n",
       "      <td>107.000000</td>\n",
       "      <td>107.000000</td>\n",
       "      <td>1042.0</td>\n",
       "      <td>0</td>\n",
       "      <td>full</td>\n",
       "    </tr>\n",
       "    <tr>\n",
       "      <th>14</th>\n",
       "      <td>A</td>\n",
       "      <td>channel 3</td>\n",
       "      <td>2023-01-29</td>\n",
       "      <td>3.0</td>\n",
       "      <td>0.0</td>\n",
       "      <td></td>\n",
       "      <td>1809.428571</td>\n",
       "      <td>725.0</td>\n",
       "      <td>103.571429</td>\n",
       "      <td>103.571429</td>\n",
       "      <td>1042.0</td>\n",
       "      <td>0</td>\n",
       "      <td>full</td>\n",
       "    </tr>\n",
       "    <tr>\n",
       "      <th>15</th>\n",
       "      <td>A</td>\n",
       "      <td>channel 3</td>\n",
       "      <td>2023-01-30</td>\n",
       "      <td>3.0</td>\n",
       "      <td>0.0</td>\n",
       "      <td></td>\n",
       "      <td>1705.857143</td>\n",
       "      <td>725.0</td>\n",
       "      <td>103.571429</td>\n",
       "      <td>103.571429</td>\n",
       "      <td>1042.0</td>\n",
       "      <td>0</td>\n",
       "      <td>full</td>\n",
       "    </tr>\n",
       "    <tr>\n",
       "      <th>16</th>\n",
       "      <td>A</td>\n",
       "      <td>channel 3</td>\n",
       "      <td>2023-01-31</td>\n",
       "      <td>3.0</td>\n",
       "      <td>0.0</td>\n",
       "      <td></td>\n",
       "      <td>1602.285714</td>\n",
       "      <td>725.0</td>\n",
       "      <td>103.571429</td>\n",
       "      <td>103.571429</td>\n",
       "      <td>1042.0</td>\n",
       "      <td>0</td>\n",
       "      <td>full</td>\n",
       "    </tr>\n",
       "    <tr>\n",
       "      <th>17</th>\n",
       "      <td>A</td>\n",
       "      <td>channel 3</td>\n",
       "      <td>2023-02-01</td>\n",
       "      <td>3.0</td>\n",
       "      <td>0.0</td>\n",
       "      <td></td>\n",
       "      <td>1498.714286</td>\n",
       "      <td>725.0</td>\n",
       "      <td>103.571429</td>\n",
       "      <td>103.571429</td>\n",
       "      <td>1042.0</td>\n",
       "      <td>0</td>\n",
       "      <td>full</td>\n",
       "    </tr>\n",
       "    <tr>\n",
       "      <th>18</th>\n",
       "      <td>A</td>\n",
       "      <td>channel 3</td>\n",
       "      <td>2023-02-02</td>\n",
       "      <td>3.0</td>\n",
       "      <td>0.0</td>\n",
       "      <td></td>\n",
       "      <td>1395.142857</td>\n",
       "      <td>725.0</td>\n",
       "      <td>103.571429</td>\n",
       "      <td>103.571429</td>\n",
       "      <td>1042.0</td>\n",
       "      <td>0</td>\n",
       "      <td>full</td>\n",
       "    </tr>\n",
       "    <tr>\n",
       "      <th>19</th>\n",
       "      <td>A</td>\n",
       "      <td>channel 3</td>\n",
       "      <td>2023-02-03</td>\n",
       "      <td>3.0</td>\n",
       "      <td>0.0</td>\n",
       "      <td></td>\n",
       "      <td>1291.571429</td>\n",
       "      <td>725.0</td>\n",
       "      <td>103.571429</td>\n",
       "      <td>103.571429</td>\n",
       "      <td>1042.0</td>\n",
       "      <td>0</td>\n",
       "      <td>full</td>\n",
       "    </tr>\n",
       "    <tr>\n",
       "      <th>20</th>\n",
       "      <td>A</td>\n",
       "      <td>channel 3</td>\n",
       "      <td>2023-02-04</td>\n",
       "      <td>3.0</td>\n",
       "      <td>0.0</td>\n",
       "      <td></td>\n",
       "      <td>1188.000000</td>\n",
       "      <td>725.0</td>\n",
       "      <td>103.571429</td>\n",
       "      <td>103.571429</td>\n",
       "      <td>1042.0</td>\n",
       "      <td>0</td>\n",
       "      <td>full</td>\n",
       "    </tr>\n",
       "    <tr>\n",
       "      <th>21</th>\n",
       "      <td>A</td>\n",
       "      <td>channel 3</td>\n",
       "      <td>2023-02-05</td>\n",
       "      <td>4.0</td>\n",
       "      <td>0.0</td>\n",
       "      <td></td>\n",
       "      <td>1083.857143</td>\n",
       "      <td>729.0</td>\n",
       "      <td>104.142857</td>\n",
       "      <td>104.142857</td>\n",
       "      <td>1042.0</td>\n",
       "      <td>0</td>\n",
       "      <td>full</td>\n",
       "    </tr>\n",
       "    <tr>\n",
       "      <th>22</th>\n",
       "      <td>A</td>\n",
       "      <td>channel 3</td>\n",
       "      <td>2023-02-06</td>\n",
       "      <td>4.0</td>\n",
       "      <td>0.0</td>\n",
       "      <td></td>\n",
       "      <td>979.714286</td>\n",
       "      <td>729.0</td>\n",
       "      <td>104.142857</td>\n",
       "      <td>104.142857</td>\n",
       "      <td>1042.0</td>\n",
       "      <td>1</td>\n",
       "      <td>risk</td>\n",
       "    </tr>\n",
       "    <tr>\n",
       "      <th>23</th>\n",
       "      <td>A</td>\n",
       "      <td>channel 3</td>\n",
       "      <td>2023-02-07</td>\n",
       "      <td>4.0</td>\n",
       "      <td>0.0</td>\n",
       "      <td></td>\n",
       "      <td>875.571429</td>\n",
       "      <td>729.0</td>\n",
       "      <td>104.142857</td>\n",
       "      <td>104.142857</td>\n",
       "      <td>1042.0</td>\n",
       "      <td>1</td>\n",
       "      <td>risk</td>\n",
       "    </tr>\n",
       "    <tr>\n",
       "      <th>24</th>\n",
       "      <td>A</td>\n",
       "      <td>channel 3</td>\n",
       "      <td>2023-02-08</td>\n",
       "      <td>4.0</td>\n",
       "      <td>0.0</td>\n",
       "      <td></td>\n",
       "      <td>771.428571</td>\n",
       "      <td>729.0</td>\n",
       "      <td>104.142857</td>\n",
       "      <td>104.142857</td>\n",
       "      <td>1042.0</td>\n",
       "      <td>1</td>\n",
       "      <td>risk</td>\n",
       "    </tr>\n",
       "    <tr>\n",
       "      <th>25</th>\n",
       "      <td>A</td>\n",
       "      <td>channel 3</td>\n",
       "      <td>2023-02-09</td>\n",
       "      <td>4.0</td>\n",
       "      <td>0.0</td>\n",
       "      <td></td>\n",
       "      <td>667.285714</td>\n",
       "      <td>729.0</td>\n",
       "      <td>104.142857</td>\n",
       "      <td>104.142857</td>\n",
       "      <td>1042.0</td>\n",
       "      <td>1</td>\n",
       "      <td>risk</td>\n",
       "    </tr>\n",
       "    <tr>\n",
       "      <th>26</th>\n",
       "      <td>A</td>\n",
       "      <td>channel 3</td>\n",
       "      <td>2023-02-10</td>\n",
       "      <td>4.0</td>\n",
       "      <td>0.0</td>\n",
       "      <td></td>\n",
       "      <td>563.142857</td>\n",
       "      <td>729.0</td>\n",
       "      <td>104.142857</td>\n",
       "      <td>104.142857</td>\n",
       "      <td>1042.0</td>\n",
       "      <td>1</td>\n",
       "      <td>risk</td>\n",
       "    </tr>\n",
       "    <tr>\n",
       "      <th>27</th>\n",
       "      <td>A</td>\n",
       "      <td>channel 3</td>\n",
       "      <td>2023-02-11</td>\n",
       "      <td>4.0</td>\n",
       "      <td>0.0</td>\n",
       "      <td></td>\n",
       "      <td>459.000000</td>\n",
       "      <td>729.0</td>\n",
       "      <td>104.142857</td>\n",
       "      <td>104.142857</td>\n",
       "      <td>1042.0</td>\n",
       "      <td>1</td>\n",
       "      <td>near stockout</td>\n",
       "    </tr>\n",
       "  </tbody>\n",
       "</table>\n",
       "</div>"
      ],
      "text/plain": [
       "   sku_name    channel       date  week  stock_in   stock_from        stock  \\\n",
       "0         A  channel 3 2023-01-14   0.0       0.0                800.000000   \n",
       "0         A  channel 3 2023-01-15   1.0       0.0                698.285714   \n",
       "1         A  channel 3 2023-01-16   1.0       0.0                596.571429   \n",
       "2         A  channel 3 2023-01-17   1.0       0.0                494.857143   \n",
       "3         A  channel 3 2023-01-18   1.0       0.0                393.142857   \n",
       "4         A  channel 3 2023-01-19   1.0       0.0                291.428571   \n",
       "5         A  channel 3 2023-01-20   1.0    1039.0          hub  1228.714286   \n",
       "6         A  channel 3 2023-01-21   1.0       0.0               1127.000000   \n",
       "7         A  channel 3 2023-01-22   2.0       0.0               1020.000000   \n",
       "8         A  channel 3 2023-01-23   2.0       0.0                913.000000   \n",
       "9         A  channel 3 2023-01-24   2.0       0.0                806.000000   \n",
       "10        A  channel 3 2023-01-25   2.0    1535.0  manufacture  2234.000000   \n",
       "11        A  channel 3 2023-01-26   2.0       0.0               2127.000000   \n",
       "12        A  channel 3 2023-01-27   2.0       0.0               2020.000000   \n",
       "13        A  channel 3 2023-01-28   2.0       0.0               1913.000000   \n",
       "14        A  channel 3 2023-01-29   3.0       0.0               1809.428571   \n",
       "15        A  channel 3 2023-01-30   3.0       0.0               1705.857143   \n",
       "16        A  channel 3 2023-01-31   3.0       0.0               1602.285714   \n",
       "17        A  channel 3 2023-02-01   3.0       0.0               1498.714286   \n",
       "18        A  channel 3 2023-02-02   3.0       0.0               1395.142857   \n",
       "19        A  channel 3 2023-02-03   3.0       0.0               1291.571429   \n",
       "20        A  channel 3 2023-02-04   3.0       0.0               1188.000000   \n",
       "21        A  channel 3 2023-02-05   4.0       0.0               1083.857143   \n",
       "22        A  channel 3 2023-02-06   4.0       0.0                979.714286   \n",
       "23        A  channel 3 2023-02-07   4.0       0.0                875.571429   \n",
       "24        A  channel 3 2023-02-08   4.0       0.0                771.428571   \n",
       "25        A  channel 3 2023-02-09   4.0       0.0                667.285714   \n",
       "26        A  channel 3 2023-02-10   4.0       0.0                563.142857   \n",
       "27        A  channel 3 2023-02-11   4.0       0.0                459.000000   \n",
       "\n",
       "    sales_potential_weekly  sales_potential_daily       sales  safety_stock  \\\n",
       "0                      NaN                    NaN         NaN        1042.0   \n",
       "0                    712.0             101.714286  101.714286        1042.0   \n",
       "1                    712.0             101.714286  101.714286        1042.0   \n",
       "2                    712.0             101.714286  101.714286        1042.0   \n",
       "3                    712.0             101.714286  101.714286        1042.0   \n",
       "4                    712.0             101.714286  101.714286        1042.0   \n",
       "5                    712.0             101.714286  101.714286        1042.0   \n",
       "6                    712.0             101.714286  101.714286        1042.0   \n",
       "7                    749.0             107.000000  107.000000        1042.0   \n",
       "8                    749.0             107.000000  107.000000        1042.0   \n",
       "9                    749.0             107.000000  107.000000        1042.0   \n",
       "10                   749.0             107.000000  107.000000        1042.0   \n",
       "11                   749.0             107.000000  107.000000        1042.0   \n",
       "12                   749.0             107.000000  107.000000        1042.0   \n",
       "13                   749.0             107.000000  107.000000        1042.0   \n",
       "14                   725.0             103.571429  103.571429        1042.0   \n",
       "15                   725.0             103.571429  103.571429        1042.0   \n",
       "16                   725.0             103.571429  103.571429        1042.0   \n",
       "17                   725.0             103.571429  103.571429        1042.0   \n",
       "18                   725.0             103.571429  103.571429        1042.0   \n",
       "19                   725.0             103.571429  103.571429        1042.0   \n",
       "20                   725.0             103.571429  103.571429        1042.0   \n",
       "21                   729.0             104.142857  104.142857        1042.0   \n",
       "22                   729.0             104.142857  104.142857        1042.0   \n",
       "23                   729.0             104.142857  104.142857        1042.0   \n",
       "24                   729.0             104.142857  104.142857        1042.0   \n",
       "25                   729.0             104.142857  104.142857        1042.0   \n",
       "26                   729.0             104.142857  104.142857        1042.0   \n",
       "27                   729.0             104.142857  104.142857        1042.0   \n",
       "\n",
       "    alert         status  \n",
       "0       1           risk  \n",
       "0       1           risk  \n",
       "1       1           risk  \n",
       "2       1  near stockout  \n",
       "3       1  near stockout  \n",
       "4       1  near stockout  \n",
       "5       0            hub  \n",
       "6       0           full  \n",
       "7       1           risk  \n",
       "8       1           risk  \n",
       "9       1           risk  \n",
       "10      0    manufacture  \n",
       "11      0           full  \n",
       "12      0           full  \n",
       "13      0           full  \n",
       "14      0           full  \n",
       "15      0           full  \n",
       "16      0           full  \n",
       "17      0           full  \n",
       "18      0           full  \n",
       "19      0           full  \n",
       "20      0           full  \n",
       "21      0           full  \n",
       "22      1           risk  \n",
       "23      1           risk  \n",
       "24      1           risk  \n",
       "25      1           risk  \n",
       "26      1           risk  \n",
       "27      1  near stockout  "
      ]
     },
     "execution_count": 235,
     "metadata": {},
     "output_type": "execute_result"
    }
   ],
   "source": [
    "df_allocation_selected = df_allocation.query(f\"sku_name == 'A' & channel == 'channel 3'\")\n",
    "df_allocation_selected"
   ]
  },
  {
   "cell_type": "code",
   "execution_count": null,
   "metadata": {},
   "outputs": [],
   "source": []
  },
  {
   "cell_type": "code",
   "execution_count": null,
   "metadata": {},
   "outputs": [],
   "source": []
  }
 ],
 "metadata": {
  "kernelspec": {
   "display_name": ".venv",
   "language": "python",
   "name": "python3"
  },
  "language_info": {
   "codemirror_mode": {
    "name": "ipython",
    "version": 3
   },
   "file_extension": ".py",
   "mimetype": "text/x-python",
   "name": "python",
   "nbconvert_exporter": "python",
   "pygments_lexer": "ipython3",
   "version": "3.10.7"
  }
 },
 "nbformat": 4,
 "nbformat_minor": 2
}
